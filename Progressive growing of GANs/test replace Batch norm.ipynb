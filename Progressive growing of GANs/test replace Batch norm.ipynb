{
 "cells": [
  {
   "cell_type": "code",
   "execution_count": 4,
   "metadata": {},
   "outputs": [
    {
     "data": {
      "text/plain": [
       "<module 'model' from 'C:\\\\Users\\\\Paul\\\\Documents\\\\Keras-progressive_growing_of_gans\\\\Progressive growing of GANs\\\\model.py'>"
      ]
     },
     "execution_count": 4,
     "metadata": {},
     "output_type": "execute_result"
    }
   ],
   "source": [
    "import numpy as np\n",
    "import model\n",
    "from importlib import reload\n",
    "reload(model)"
   ]
  },
  {
   "cell_type": "code",
   "execution_count": 2,
   "metadata": {},
   "outputs": [
    {
     "name": "stdout",
     "output_type": "stream",
     "text": [
      "WARNING:tensorflow:From C:\\Users\\Paul\\Anaconda3\\lib\\site-packages\\keras\\backend\\tensorflow_backend.py:1290: calling reduce_mean (from tensorflow.python.ops.math_ops) with keep_dims is deprecated and will be removed in a future version.\n",
      "Instructions for updating:\n",
      "keep_dims is deprecated, use keepdims instead\n"
     ]
    }
   ],
   "source": [
    "G = model.Generator(use_wscale=False)"
   ]
  },
  {
   "cell_type": "code",
   "execution_count": 3,
   "metadata": {},
   "outputs": [
    {
     "name": "stdout",
     "output_type": "stream",
     "text": [
      "Layer G1aBN_twin inserted after layer G1aBN\n",
      "Layer G1bBN_twin inserted after layer G1bBN\n",
      "Layer G2aBN_twin inserted after layer G2aBN\n",
      "Layer G2bBN_twin inserted after layer G2bBN\n",
      "Layer G3aBN_twin inserted after layer G3aBN\n",
      "Layer G3bBN_twin inserted after layer G3bBN\n",
      "Layer G4aBN_twin inserted after layer G4aBN\n",
      "Layer G4bBN_twin inserted after layer G4bBN\n"
     ]
    }
   ],
   "source": [
    "tw = model.replace_batch_norm(G)"
   ]
  },
  {
   "cell_type": "code",
   "execution_count": null,
   "metadata": {},
   "outputs": [],
   "source": []
  }
 ],
 "metadata": {
  "kernelspec": {
   "display_name": "Python 3",
   "language": "python",
   "name": "python3"
  },
  "language_info": {
   "codemirror_mode": {
    "name": "ipython",
    "version": 3
   },
   "file_extension": ".py",
   "mimetype": "text/x-python",
   "name": "python",
   "nbconvert_exporter": "python",
   "pygments_lexer": "ipython3",
   "version": "3.6.6"
  }
 },
 "nbformat": 4,
 "nbformat_minor": 2
}
