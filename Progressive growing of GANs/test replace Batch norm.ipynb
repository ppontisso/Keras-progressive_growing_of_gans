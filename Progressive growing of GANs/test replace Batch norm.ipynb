{
 "cells": [
  {
   "cell_type": "code",
   "execution_count": 17,
   "metadata": {},
   "outputs": [
    {
     "name": "stdout",
     "output_type": "stream",
     "text": [
      "The autoreload extension is already loaded. To reload it, use:\n",
      "  %reload_ext autoreload\n"
     ]
    }
   ],
   "source": [
    "import numpy as np\n",
    "import model\n",
    "%load_ext autoreload\n",
    "%autoreload 2\n",
    "from data_generator import *"
   ]
  },
  {
   "cell_type": "code",
   "execution_count": 18,
   "metadata": {},
   "outputs": [],
   "source": [
    "g = DataGenerator(images_dir= 'datasets/CelebA')"
   ]
  },
  {
   "cell_type": "code",
   "execution_count": 20,
   "metadata": {},
   "outputs": [],
   "source": [
    "generator = g.generate(batch_size=1)"
   ]
  },
  {
   "cell_type": "code",
   "execution_count": 23,
   "metadata": {},
   "outputs": [
    {
     "data": {
      "text/plain": [
       "(1, 32, 32, 3)"
      ]
     },
     "execution_count": 23,
     "metadata": {},
     "output_type": "execute_result"
    }
   ],
   "source": [
    "next(generator).shape"
   ]
  },
  {
   "cell_type": "code",
   "execution_count": 31,
   "metadata": {},
   "outputs": [
    {
     "data": {
      "text/plain": [
       "<matplotlib.image.AxesImage at 0x233a1090048>"
      ]
     },
     "execution_count": 31,
     "metadata": {},
     "output_type": "execute_result"
    },
    {
     "data": {
      "image/png": "[encoded data removed]",
      "text/plain": [
       "<Figure size 432x288 with 1 Axes>"
      ]
     },
     "metadata": {
      "needs_background": "light"
     },
     "output_type": "display_data"
    }
   ],
   "source": [
    "plt.imshow(next(generator)[0])"
   ]
  },
  {
   "cell_type": "code",
   "execution_count": null,
   "metadata": {},
   "outputs": [],
   "source": []
  },
  {
   "cell_type": "code",
   "execution_count": 2,
   "metadata": {
    "scrolled": false
   },
   "outputs": [
    {
     "name": "stdout",
     "output_type": "stream",
     "text": [
      "WARNING:tensorflow:From C:\\Users\\Paul\\Anaconda3\\lib\\site-packages\\keras\\backend\\tensorflow_backend.py:1290: calling reduce_mean (from tensorflow.python.ops.math_ops) with keep_dims is deprecated and will be removed in a future version.\n",
      "Instructions for updating:\n",
      "keep_dims is deprecated, use keepdims instead\n"
     ]
    }
   ],
   "source": [
    "E_G = model.Encoder_Generator( use_wscale=False)"
   ]
  },
  {
   "cell_type": "code",
   "execution_count": 3,
   "metadata": {},
   "outputs": [],
   "source": [
    "Et_Gt = model.new_batch_norm(E_G)"
   ]
  },
  {
   "cell_type": "code",
   "execution_count": 4,
   "metadata": {},
   "outputs": [],
   "source": [
    "Et = model.extract_encoder(Et_Gt)\n",
    "E = model.extract_encoder(E_G)\n"
   ]
  },
  {
   "cell_type": "code",
   "execution_count": 5,
   "metadata": {
    "scrolled": true
   },
   "outputs": [],
   "source": [
    "Et_G = model.replace_batch_norm(E_G, Et_Gt, apply = 'encoder')\n",
    "\n",
    "E_Gt = model.replace_batch_norm(E_G, Et_Gt, apply = 'generator')"
   ]
  },
  {
   "cell_type": "code",
   "execution_count": 16,
   "metadata": {
    "scrolled": true
   },
   "outputs": [
    {
     "name": "stdout",
     "output_type": "stream",
     "text": [
      "_________________________________________________________________\n",
      "Layer (type)                 Output Shape              Param #   \n",
      "=================================================================\n",
      "model_6 (Model)              (None, 32, 32, 1)         9328388   \n",
      "_________________________________________________________________\n",
      "model_4 (Model)              (None, 4, 4, 256)         5189632   \n",
      "=================================================================\n",
      "Total params: 9,328,388\n",
      "Trainable params: 9,320,708\n",
      "Non-trainable params: 7,680\n",
      "_________________________________________________________________\n",
      "____________________________________________________________________________________________________\n",
      "Layer (type)                     Output Shape          Param #     Connected to                     \n",
      "====================================================================================================\n",
      "Eimages (InputLayer)             (None, 32, 32, 1)     0                                            \n",
      "____________________________________________________________________________________________________\n",
      "E4xNIN (Conv2D)                  (None, 32, 32, 256)   512         Eimages[0][0]                    \n",
      "____________________________________________________________________________________________________\n",
      "E4b (Conv2D)                     (None, 32, 32, 256)   590080      E4xNIN[3][0]                     \n",
      "____________________________________________________________________________________________________\n",
      "E4bBN (BatchNormalization)       (None, 32, 32, 256)   1024        E4b[3][0]                        \n",
      "____________________________________________________________________________________________________\n",
      "E4a (Conv2D)                     (None, 32, 32, 256)   590080      E4bBN[1][0]                      \n",
      "____________________________________________________________________________________________________\n",
      "E4aBN (BatchNormalization)       (None, 32, 32, 256)   1024        E4a[3][0]                        \n",
      "____________________________________________________________________________________________________\n",
      "E3xs (AveragePooling2D)          (None, 16, 16, 1)     0           Eimages[0][0]                    \n",
      "____________________________________________________________________________________________________\n",
      "E4dn (AveragePooling2D)          (None, 16, 16, 256)   0           E4aBN[1][0]                      \n",
      "____________________________________________________________________________________________________\n",
      "E3xNIN (Conv2D)                  (None, 16, 16, 256)   512         E3xs[3][0]                       \n",
      "____________________________________________________________________________________________________\n",
      "E3lod (LODSelectLayer)           (None, 16, 16, 256)   0           E4dn[3][0]                       \n",
      "                                                                   E3xNIN[3][0]                     \n",
      "____________________________________________________________________________________________________\n",
      "E3b (Conv2D)                     (None, 16, 16, 256)   590080      E3lod[3][0]                      \n",
      "____________________________________________________________________________________________________\n",
      "E3bBN (BatchNormalization)       (None, 16, 16, 256)   1024        E3b[3][0]                        \n",
      "____________________________________________________________________________________________________\n",
      "E3a (Conv2D)                     (None, 16, 16, 256)   590080      E3bBN[1][0]                      \n",
      "____________________________________________________________________________________________________\n",
      "E3aBN (BatchNormalization)       (None, 16, 16, 256)   1024        E3a[3][0]                        \n",
      "____________________________________________________________________________________________________\n",
      "E2xs (AveragePooling2D)          (None, 8, 8, 1)       0           Eimages[0][0]                    \n",
      "____________________________________________________________________________________________________\n",
      "E3dn (AveragePooling2D)          (None, 8, 8, 256)     0           E3aBN[1][0]                      \n",
      "____________________________________________________________________________________________________\n",
      "E2xNIN (Conv2D)                  (None, 8, 8, 256)     512         E2xs[3][0]                       \n",
      "____________________________________________________________________________________________________\n",
      "E2lod (LODSelectLayer)           (None, 8, 8, 256)     0           E3dn[3][0]                       \n",
      "                                                                   E2xNIN[3][0]                     \n",
      "____________________________________________________________________________________________________\n",
      "E2b (Conv2D)                     (None, 8, 8, 256)     590080      E2lod[3][0]                      \n",
      "____________________________________________________________________________________________________\n",
      "E2bBN (BatchNormalization)       (None, 8, 8, 256)     1024        E2b[3][0]                        \n",
      "____________________________________________________________________________________________________\n",
      "E2a (Conv2D)                     (None, 8, 8, 256)     590080      E2bBN[1][0]                      \n",
      "____________________________________________________________________________________________________\n",
      "E2aBN (BatchNormalization)       (None, 8, 8, 256)     1024        E2a[3][0]                        \n",
      "____________________________________________________________________________________________________\n",
      "E1xs (AveragePooling2D)          (None, 4, 4, 1)       0           Eimages[0][0]                    \n",
      "____________________________________________________________________________________________________\n",
      "E2dn (AveragePooling2D)          (None, 4, 4, 256)     0           E2aBN[1][0]                      \n",
      "____________________________________________________________________________________________________\n",
      "E1xNIN (Conv2D)                  (None, 4, 4, 256)     512         E1xs[3][0]                       \n",
      "____________________________________________________________________________________________________\n",
      "E1lod (LODSelectLayer)           (None, 4, 4, 256)     0           E2dn[3][0]                       \n",
      "                                                                   E1xNIN[3][0]                     \n",
      "____________________________________________________________________________________________________\n",
      "E1b (Conv2D)                     (None, 4, 4, 256)     590080      E1lod[3][0]                      \n",
      "____________________________________________________________________________________________________\n",
      "E1bBN (BatchNormalization)       (None, 4, 4, 256)     1024        E1b[3][0]                        \n",
      "____________________________________________________________________________________________________\n",
      "E1a (Conv2D)                     (None, 4, 4, 256)     1048832     E1bBN[1][0]                      \n",
      "____________________________________________________________________________________________________\n",
      "E1aBN (BatchNormalization)       (None, 4, 4, 256)     1024        E1a[3][0]                        \n",
      "____________________________________________________________________________________________________\n",
      "G1a (Conv2D)                     (None, 4, 4, 256)     590080      E1aBN[1][0]                      \n",
      "____________________________________________________________________________________________________\n",
      "G1aBN_twin (BatchNormalization)  (None, 4, 4, 256)     1024        G1a[3][0]                        \n",
      "____________________________________________________________________________________________________\n",
      "G1aPN (PixelNormLayer)           (None, 4, 4, 256)     0           G1aBN_twin[1][0]                 \n",
      "____________________________________________________________________________________________________\n",
      "G2up (UpSampling2D)              (None, 8, 8, 256)     0           G1aPN[3][0]                      \n",
      "____________________________________________________________________________________________________\n",
      "concatenate_1 (Concatenate)      (None, 8, 8, 256)     0           E2aBN[1][0]                      \n",
      "                                                                   G2up[3][0]                       \n",
      "____________________________________________________________________________________________________\n",
      "G2a (Conv2D)                     (None, 8, 8, 256)     590080      concatenate_1[3][0]              \n",
      "____________________________________________________________________________________________________\n",
      "G2aBN_twin (BatchNormalization)  (None, 8, 8, 256)     1024        G2a[3][0]                        \n",
      "____________________________________________________________________________________________________\n",
      "G2aPN (PixelNormLayer)           (None, 8, 8, 256)     0           G2aBN_twin[1][0]                 \n",
      "____________________________________________________________________________________________________\n",
      "G2b (Conv2D)                     (None, 8, 8, 256)     590080      G2aPN[3][0]                      \n",
      "____________________________________________________________________________________________________\n",
      "G2bBN_twin (BatchNormalization)  (None, 8, 8, 256)     1024        G2b[3][0]                        \n",
      "____________________________________________________________________________________________________\n",
      "G2bPN (PixelNormLayer)           (None, 8, 8, 256)     0           G2bBN_twin[1][0]                 \n",
      "____________________________________________________________________________________________________\n",
      "G3up (UpSampling2D)              (None, 16, 16, 256)   0           G2bPN[3][0]                      \n",
      "____________________________________________________________________________________________________\n",
      "concatenate_2 (Concatenate)      (None, 16, 16, 256)   0           E3aBN[1][0]                      \n",
      "                                                                   G3up[3][0]                       \n",
      "____________________________________________________________________________________________________\n",
      "G3a (Conv2D)                     (None, 16, 16, 256)   590080      concatenate_2[3][0]              \n",
      "____________________________________________________________________________________________________\n",
      "G3aBN_twin (BatchNormalization)  (None, 16, 16, 256)   1024        G3a[3][0]                        \n",
      "____________________________________________________________________________________________________\n",
      "G3aPN (PixelNormLayer)           (None, 16, 16, 256)   0           G3aBN_twin[1][0]                 \n",
      "____________________________________________________________________________________________________\n",
      "G3b (Conv2D)                     (None, 16, 16, 256)   590080      G3aPN[3][0]                      \n",
      "____________________________________________________________________________________________________\n",
      "G3bBN_twin (BatchNormalization)  (None, 16, 16, 256)   1024        G3b[3][0]                        \n",
      "____________________________________________________________________________________________________\n",
      "G3bPN (PixelNormLayer)           (None, 16, 16, 256)   0           G3bBN_twin[1][0]                 \n",
      "____________________________________________________________________________________________________\n",
      "G4up (UpSampling2D)              (None, 32, 32, 256)   0           G3bPN[3][0]                      \n",
      "____________________________________________________________________________________________________\n",
      "concatenate_3 (Concatenate)      (None, 32, 32, 256)   0           E4aBN[1][0]                      \n",
      "                                                                   G4up[3][0]                       \n",
      "____________________________________________________________________________________________________\n",
      "G4a (Conv2D)                     (None, 32, 32, 256)   590080      concatenate_3[3][0]              \n",
      "____________________________________________________________________________________________________\n",
      "G4aBN_twin (BatchNormalization)  (None, 32, 32, 256)   1024        G4a[3][0]                        \n",
      "____________________________________________________________________________________________________\n",
      "G4aPN (PixelNormLayer)           (None, 32, 32, 256)   0           G4aBN_twin[1][0]                 \n",
      "____________________________________________________________________________________________________\n",
      "G4b (Conv2D)                     (None, 32, 32, 256)   590080      G4aPN[3][0]                      \n",
      "____________________________________________________________________________________________________\n",
      "G4bBN_twin (BatchNormalization)  (None, 32, 32, 256)   1024        G4b[3][0]                        \n",
      "____________________________________________________________________________________________________\n",
      "G4bPN (PixelNormLayer)           (None, 32, 32, 256)   0           G4bBN_twin[1][0]                 \n",
      "____________________________________________________________________________________________________\n",
      "Glod0NIN (Conv2D)                (None, 32, 32, 1)     257         G4bPN[3][0]                      \n",
      "____________________________________________________________________________________________________\n",
      "Glod1NIN (Conv2D)                (None, 16, 16, 1)     257         G3bPN[3][0]                      \n",
      "____________________________________________________________________________________________________\n",
      "Glod2NIN (Conv2D)                (None, 8, 8, 1)       257         G2bPN[3][0]                      \n",
      "____________________________________________________________________________________________________\n",
      "Glod3NIN (Conv2D)                (None, 4, 4, 1)       257         G1aPN[3][0]                      \n",
      "____________________________________________________________________________________________________\n",
      "Glod (LODSelectLayer)            (None, 32, 32, 1)     0           Glod0NIN[3][0]                   \n",
      "                                                                   Glod1NIN[3][0]                   \n",
      "                                                                   Glod2NIN[3][0]                   \n",
      "                                                                   Glod3NIN[3][0]                   \n",
      "====================================================================================================\n",
      "Total params: 9,328,388\n",
      "Trainable params: 9,320,708\n",
      "Non-trainable params: 7,680\n",
      "____________________________________________________________________________________________________\n"
     ]
    },
    {
     "data": {
      "text/plain": [
       "(None, None)"
      ]
     },
     "execution_count": 16,
     "metadata": {},
     "output_type": "execute_result"
    }
   ],
   "source": [
    "x = Sequential([E_Gt, E])\n",
    "x.summary(), E_Gt.summary()"
   ]
  },
  {
   "cell_type": "code",
   "execution_count": 12,
   "metadata": {},
   "outputs": [
    {
     "ename": "ValueError",
     "evalue": "Layer model_4 was called with an input that isn't a symbolic tensor. Received type: <class 'keras.engine.training.Model'>. Full input: [<keras.engine.training.Model object at 0x000002339EE94F28>]. All inputs to the layer should be tensors.",
     "output_type": "error",
     "traceback": [
      "\u001b[1;31m---------------------------------------------------------------------------\u001b[0m",
      "\u001b[1;31mValueError\u001b[0m                                Traceback (most recent call last)",
      "\u001b[1;32m~\\Anaconda3\\lib\\site-packages\\keras\\engine\\topology.py\u001b[0m in \u001b[0;36massert_input_compatibility\u001b[1;34m(self, inputs)\u001b[0m\n\u001b[0;32m    424\u001b[0m             \u001b[1;32mtry\u001b[0m\u001b[1;33m:\u001b[0m\u001b[1;33m\u001b[0m\u001b[0m\n\u001b[1;32m--> 425\u001b[1;33m                 \u001b[0mK\u001b[0m\u001b[1;33m.\u001b[0m\u001b[0mis_keras_tensor\u001b[0m\u001b[1;33m(\u001b[0m\u001b[0mx\u001b[0m\u001b[1;33m)\u001b[0m\u001b[1;33m\u001b[0m\u001b[0m\n\u001b[0m\u001b[0;32m    426\u001b[0m             \u001b[1;32mexcept\u001b[0m \u001b[0mValueError\u001b[0m\u001b[1;33m:\u001b[0m\u001b[1;33m\u001b[0m\u001b[0m\n",
      "\u001b[1;32m~\\Anaconda3\\lib\\site-packages\\keras\\backend\\tensorflow_backend.py\u001b[0m in \u001b[0;36mis_keras_tensor\u001b[1;34m(x)\u001b[0m\n\u001b[0;32m    402\u001b[0m                           tf.SparseTensor)):\n\u001b[1;32m--> 403\u001b[1;33m         raise ValueError('Unexpectedly found an instance of type `' + str(type(x)) + '`. '\n\u001b[0m\u001b[0;32m    404\u001b[0m                          'Expected a symbolic tensor instance.')\n",
      "\u001b[1;31mValueError\u001b[0m: Unexpectedly found an instance of type `<class 'keras.engine.training.Model'>`. Expected a symbolic tensor instance.",
      "\nDuring handling of the above exception, another exception occurred:\n",
      "\u001b[1;31mValueError\u001b[0m                                Traceback (most recent call last)",
      "\u001b[1;32m<ipython-input-12-1e0282cc8cf6>\u001b[0m in \u001b[0;36m<module>\u001b[1;34m()\u001b[0m\n\u001b[0;32m      1\u001b[0m \u001b[1;32mfrom\u001b[0m \u001b[0mkeras\u001b[0m\u001b[1;33m.\u001b[0m\u001b[0mmodels\u001b[0m \u001b[1;32mimport\u001b[0m \u001b[0mModel\u001b[0m\u001b[1;33m,\u001b[0m \u001b[0mSequential\u001b[0m\u001b[1;33m\u001b[0m\u001b[0m\n\u001b[1;32m----> 2\u001b[1;33m \u001b[0mE_G_twin_E\u001b[0m \u001b[1;33m=\u001b[0m \u001b[0mModel\u001b[0m\u001b[1;33m(\u001b[0m\u001b[0minputs\u001b[0m \u001b[1;33m=\u001b[0m \u001b[0mE_Gt\u001b[0m\u001b[1;33m.\u001b[0m\u001b[0minput\u001b[0m\u001b[1;33m,\u001b[0m \u001b[0moutputs\u001b[0m\u001b[1;33m=\u001b[0m \u001b[0mE\u001b[0m\u001b[1;33m(\u001b[0m\u001b[0mE_Gt\u001b[0m\u001b[1;33m)\u001b[0m\u001b[1;33m.\u001b[0m\u001b[0moutput\u001b[0m\u001b[1;33m)\u001b[0m\u001b[1;33m\u001b[0m\u001b[0m\n\u001b[0m",
      "\u001b[1;32m~\\Anaconda3\\lib\\site-packages\\keras\\engine\\topology.py\u001b[0m in \u001b[0;36m__call__\u001b[1;34m(self, inputs, **kwargs)\u001b[0m\n\u001b[0;32m    584\u001b[0m             \u001b[1;31m# Raise exceptions in case the input is not compatible\u001b[0m\u001b[1;33m\u001b[0m\u001b[1;33m\u001b[0m\u001b[0m\n\u001b[0;32m    585\u001b[0m             \u001b[1;31m# with the input_spec set at build time.\u001b[0m\u001b[1;33m\u001b[0m\u001b[1;33m\u001b[0m\u001b[0m\n\u001b[1;32m--> 586\u001b[1;33m             \u001b[0mself\u001b[0m\u001b[1;33m.\u001b[0m\u001b[0massert_input_compatibility\u001b[0m\u001b[1;33m(\u001b[0m\u001b[0minputs\u001b[0m\u001b[1;33m)\u001b[0m\u001b[1;33m\u001b[0m\u001b[0m\n\u001b[0m\u001b[0;32m    587\u001b[0m \u001b[1;33m\u001b[0m\u001b[0m\n\u001b[0;32m    588\u001b[0m             \u001b[1;31m# Handle mask propagation.\u001b[0m\u001b[1;33m\u001b[0m\u001b[1;33m\u001b[0m\u001b[0m\n",
      "\u001b[1;32m~\\Anaconda3\\lib\\site-packages\\keras\\engine\\topology.py\u001b[0m in \u001b[0;36massert_input_compatibility\u001b[1;34m(self, inputs)\u001b[0m\n\u001b[0;32m    429\u001b[0m                                  \u001b[1;34m'Received type: '\u001b[0m \u001b[1;33m+\u001b[0m\u001b[1;33m\u001b[0m\u001b[0m\n\u001b[0;32m    430\u001b[0m                                  \u001b[0mstr\u001b[0m\u001b[1;33m(\u001b[0m\u001b[0mtype\u001b[0m\u001b[1;33m(\u001b[0m\u001b[0mx\u001b[0m\u001b[1;33m)\u001b[0m\u001b[1;33m)\u001b[0m \u001b[1;33m+\u001b[0m \u001b[1;34m'. Full input: '\u001b[0m \u001b[1;33m+\u001b[0m\u001b[1;33m\u001b[0m\u001b[0m\n\u001b[1;32m--> 431\u001b[1;33m                                  \u001b[0mstr\u001b[0m\u001b[1;33m(\u001b[0m\u001b[0minputs\u001b[0m\u001b[1;33m)\u001b[0m \u001b[1;33m+\u001b[0m \u001b[1;34m'. All inputs to the layer '\u001b[0m\u001b[1;33m\u001b[0m\u001b[0m\n\u001b[0m\u001b[0;32m    432\u001b[0m                                  'should be tensors.')\n\u001b[0;32m    433\u001b[0m \u001b[1;33m\u001b[0m\u001b[0m\n",
      "\u001b[1;31mValueError\u001b[0m: Layer model_4 was called with an input that isn't a symbolic tensor. Received type: <class 'keras.engine.training.Model'>. Full input: [<keras.engine.training.Model object at 0x000002339EE94F28>]. All inputs to the layer should be tensors."
     ]
    }
   ],
   "source": [
    "from keras.models import Model, Sequential\n",
    "E_G_twin_E = Model(inputs = E_Gt.input, outputs= E(E_Gt).output)"
   ]
  },
  {
   "cell_type": "code",
   "execution_count": null,
   "metadata": {},
   "outputs": [],
   "source": []
  },
  {
   "cell_type": "code",
   "execution_count": null,
   "metadata": {},
   "outputs": [],
   "source": []
  },
  {
   "cell_type": "code",
   "execution_count": 10,
   "metadata": {
    "scrolled": true
   },
   "outputs": [
    {
     "data": {
      "text/plain": [
       "<tf.Tensor 'G1a_6/sub:0' shape=(?, 4, 4, 256) dtype=float32>"
      ]
     },
     "execution_count": 10,
     "metadata": {},
     "output_type": "execute_result"
    }
   ],
   "source": [
    "E_G.get_layer('G1a')(Et.output)"
   ]
  },
  {
   "cell_type": "code",
   "execution_count": 3,
   "metadata": {},
   "outputs": [
    {
     "name": "stderr",
     "output_type": "stream",
     "text": [
      "C:\\Users\\Paul\\Anaconda3\\lib\\site-packages\\keras\\engine\\topology.py:1571: UserWarning: Model inputs must come from a Keras Input layer, they cannot be the output of a previous non-Input layer. Here, a tensor specified as input to \"model_2\" was not an Input tensor, it was generated by layer E1aBN.\n",
      "Note that input tensors are instantiated via `tensor = Input(shape)`.\n",
      "The tensor that caused the issue was: E1aBN/cond/Merge:0\n",
      "  str(x.name))\n"
     ]
    },
    {
     "ename": "TypeError",
     "evalue": "Input layers to a `Model` must be `InputLayer` objects. Received inputs: Tensor(\"E1aBN/cond/Merge:0\", shape=(?, 4, 4, 256), dtype=float32). Input 0 (0-based) originates from layer type `BatchNormalization`.",
     "output_type": "error",
     "traceback": [
      "\u001b[1;31m---------------------------------------------------------------------------\u001b[0m",
      "\u001b[1;31mTypeError\u001b[0m                                 Traceback (most recent call last)",
      "\u001b[1;32m<ipython-input-3-65b10590fba0>\u001b[0m in \u001b[0;36m<module>\u001b[1;34m()\u001b[0m\n\u001b[0;32m      1\u001b[0m \u001b[1;32mfrom\u001b[0m \u001b[0mkeras\u001b[0m\u001b[1;33m.\u001b[0m\u001b[0mmodels\u001b[0m \u001b[1;32mimport\u001b[0m \u001b[0mModel\u001b[0m\u001b[1;33m,\u001b[0m \u001b[0mSequential\u001b[0m\u001b[1;33m\u001b[0m\u001b[0m\n\u001b[0;32m      2\u001b[0m \u001b[1;33m\u001b[0m\u001b[0m\n\u001b[1;32m----> 3\u001b[1;33m \u001b[0mG\u001b[0m \u001b[1;33m=\u001b[0m \u001b[0mModel\u001b[0m\u001b[1;33m(\u001b[0m\u001b[0minputs\u001b[0m\u001b[1;33m=\u001b[0m\u001b[0mE_G\u001b[0m\u001b[1;33m.\u001b[0m\u001b[0mget_layer\u001b[0m\u001b[1;33m(\u001b[0m\u001b[1;34m'G1a'\u001b[0m\u001b[1;33m)\u001b[0m\u001b[1;33m.\u001b[0m\u001b[0minput\u001b[0m\u001b[1;33m,\u001b[0m \u001b[0moutputs\u001b[0m\u001b[1;33m=\u001b[0m\u001b[0mE_G\u001b[0m\u001b[1;33m.\u001b[0m\u001b[0moutput\u001b[0m\u001b[1;33m)\u001b[0m\u001b[1;33m\u001b[0m\u001b[0m\n\u001b[0m",
      "\u001b[1;32m~\\Anaconda3\\lib\\site-packages\\keras\\legacy\\interfaces.py\u001b[0m in \u001b[0;36mwrapper\u001b[1;34m(*args, **kwargs)\u001b[0m\n\u001b[0;32m     85\u001b[0m                 warnings.warn('Update your `' + object_name +\n\u001b[0;32m     86\u001b[0m                               '` call to the Keras 2 API: ' + signature, stacklevel=2)\n\u001b[1;32m---> 87\u001b[1;33m             \u001b[1;32mreturn\u001b[0m \u001b[0mfunc\u001b[0m\u001b[1;33m(\u001b[0m\u001b[1;33m*\u001b[0m\u001b[0margs\u001b[0m\u001b[1;33m,\u001b[0m \u001b[1;33m**\u001b[0m\u001b[0mkwargs\u001b[0m\u001b[1;33m)\u001b[0m\u001b[1;33m\u001b[0m\u001b[0m\n\u001b[0m\u001b[0;32m     88\u001b[0m         \u001b[0mwrapper\u001b[0m\u001b[1;33m.\u001b[0m\u001b[0m_original_function\u001b[0m \u001b[1;33m=\u001b[0m \u001b[0mfunc\u001b[0m\u001b[1;33m\u001b[0m\u001b[0m\n\u001b[0;32m     89\u001b[0m         \u001b[1;32mreturn\u001b[0m \u001b[0mwrapper\u001b[0m\u001b[1;33m\u001b[0m\u001b[0m\n",
      "\u001b[1;32m~\\Anaconda3\\lib\\site-packages\\keras\\engine\\topology.py\u001b[0m in \u001b[0;36m__init__\u001b[1;34m(self, inputs, outputs, name)\u001b[0m\n\u001b[0;32m   1629\u001b[0m                     'from layer type `{}`.'.format(inputs,\n\u001b[0;32m   1630\u001b[0m                                                    \u001b[0mi\u001b[0m\u001b[1;33m,\u001b[0m\u001b[1;33m\u001b[0m\u001b[0m\n\u001b[1;32m-> 1631\u001b[1;33m                                                    layer.__class__.__name__))\n\u001b[0m\u001b[0;32m   1632\u001b[0m             \u001b[0mself\u001b[0m\u001b[1;33m.\u001b[0m\u001b[0minput_names\u001b[0m\u001b[1;33m.\u001b[0m\u001b[0mappend\u001b[0m\u001b[1;33m(\u001b[0m\u001b[0mlayer\u001b[0m\u001b[1;33m.\u001b[0m\u001b[0mname\u001b[0m\u001b[1;33m)\u001b[0m\u001b[1;33m\u001b[0m\u001b[0m\n\u001b[0;32m   1633\u001b[0m             \u001b[1;32mif\u001b[0m \u001b[0mlayer\u001b[0m\u001b[1;33m.\u001b[0m\u001b[0mis_placeholder\u001b[0m\u001b[1;33m:\u001b[0m\u001b[1;33m\u001b[0m\u001b[0m\n",
      "\u001b[1;31mTypeError\u001b[0m: Input layers to a `Model` must be `InputLayer` objects. Received inputs: Tensor(\"E1aBN/cond/Merge:0\", shape=(?, 4, 4, 256), dtype=float32). Input 0 (0-based) originates from layer type `BatchNormalization`."
     ]
    }
   ],
   "source": [
    "from keras.models import Model, Sequential\n",
    "\n",
    "G = Model(inputs=E_G.get_layer('G1a').input, outputs=E_G.output)"
   ]
  },
  {
   "cell_type": "code",
   "execution_count": 15,
   "metadata": {},
   "outputs": [
    {
     "ename": "AttributeError",
     "evalue": "Layer G1a has multiple inbound nodes, hence the notion of \"layer input\" is ill-defined. Use `get_input_at(node_index)` instead.",
     "output_type": "error",
     "traceback": [
      "\u001b[1;31m---------------------------------------------------------------------------\u001b[0m",
      "\u001b[1;31mAttributeError\u001b[0m                            Traceback (most recent call last)",
      "\u001b[1;32m<ipython-input-15-473f0960eee6>\u001b[0m in \u001b[0;36m<module>\u001b[1;34m()\u001b[0m\n\u001b[0;32m      1\u001b[0m \u001b[1;33m\u001b[0m\u001b[0m\n\u001b[1;32m----> 2\u001b[1;33m \u001b[0mG\u001b[0m \u001b[1;33m=\u001b[0m \u001b[0mModel\u001b[0m\u001b[1;33m(\u001b[0m\u001b[0minputs\u001b[0m\u001b[1;33m=\u001b[0m\u001b[0mE_G\u001b[0m\u001b[1;33m.\u001b[0m\u001b[0mget_layer\u001b[0m\u001b[1;33m(\u001b[0m\u001b[1;34m'G1a'\u001b[0m\u001b[1;33m)\u001b[0m\u001b[1;33m.\u001b[0m\u001b[0minput\u001b[0m\u001b[1;33m,\u001b[0m \u001b[0moutputs\u001b[0m\u001b[1;33m=\u001b[0m\u001b[0mE_G\u001b[0m\u001b[1;33m.\u001b[0m\u001b[0moutput\u001b[0m\u001b[1;33m)\u001b[0m\u001b[1;33m\u001b[0m\u001b[0m\n\u001b[0m",
      "\u001b[1;32m~\\Anaconda3\\lib\\site-packages\\keras\\engine\\topology.py\u001b[0m in \u001b[0;36minput\u001b[1;34m(self)\u001b[0m\n\u001b[0;32m    923\u001b[0m         \u001b[1;32mif\u001b[0m \u001b[0mlen\u001b[0m\u001b[1;33m(\u001b[0m\u001b[0mself\u001b[0m\u001b[1;33m.\u001b[0m\u001b[0minbound_nodes\u001b[0m\u001b[1;33m)\u001b[0m \u001b[1;33m>\u001b[0m \u001b[1;36m1\u001b[0m\u001b[1;33m:\u001b[0m\u001b[1;33m\u001b[0m\u001b[0m\n\u001b[0;32m    924\u001b[0m             raise AttributeError('Layer ' + self.name +\n\u001b[1;32m--> 925\u001b[1;33m                                  \u001b[1;34m' has multiple inbound nodes, '\u001b[0m\u001b[1;33m\u001b[0m\u001b[0m\n\u001b[0m\u001b[0;32m    926\u001b[0m                                  \u001b[1;34m'hence the notion of \"layer input\" '\u001b[0m\u001b[1;33m\u001b[0m\u001b[0m\n\u001b[0;32m    927\u001b[0m                                  \u001b[1;34m'is ill-defined. '\u001b[0m\u001b[1;33m\u001b[0m\u001b[0m\n",
      "\u001b[1;31mAttributeError\u001b[0m: Layer G1a has multiple inbound nodes, hence the notion of \"layer input\" is ill-defined. Use `get_input_at(node_index)` instead."
     ]
    }
   ],
   "source": [
    "\n"
   ]
  },
  {
   "cell_type": "code",
   "execution_count": 13,
   "metadata": {},
   "outputs": [
    {
     "name": "stdout",
     "output_type": "stream",
     "text": [
      "____________________________________________________________________________________________________\n",
      "Layer (type)                     Output Shape          Param #     Connected to                     \n",
      "====================================================================================================\n",
      "Eimages (InputLayer)             (None, 32, 32, 1)     0                                            \n",
      "____________________________________________________________________________________________________\n",
      "E4xNIN (Conv2D)                  (None, 32, 32, 256)   512         Eimages[0][0]                    \n",
      "____________________________________________________________________________________________________\n",
      "E4b (Conv2D)                     (None, 32, 32, 256)   590080      E4xNIN[1][0]                     \n",
      "____________________________________________________________________________________________________\n",
      "E4bBN_twin (BatchNormalization)  (None, 32, 32, 256)   1024        E4b[1][0]                        \n",
      "____________________________________________________________________________________________________\n",
      "E4a (Conv2D)                     (None, 32, 32, 256)   590080      E4bBN_twin[0][0]                 \n",
      "____________________________________________________________________________________________________\n",
      "E4aBN_twin (BatchNormalization)  (None, 32, 32, 256)   1024        E4a[1][0]                        \n",
      "____________________________________________________________________________________________________\n",
      "E3xs (AveragePooling2D)          (None, 16, 16, 1)     0           Eimages[0][0]                    \n",
      "____________________________________________________________________________________________________\n",
      "E4dn (AveragePooling2D)          (None, 16, 16, 256)   0           E4aBN_twin[0][0]                 \n",
      "____________________________________________________________________________________________________\n",
      "E3xNIN (Conv2D)                  (None, 16, 16, 256)   512         E3xs[1][0]                       \n",
      "____________________________________________________________________________________________________\n",
      "E3lod (LODSelectLayer)           (None, 16, 16, 256)   0           E4dn[1][0]                       \n",
      "                                                                   E3xNIN[1][0]                     \n",
      "____________________________________________________________________________________________________\n",
      "E3b (Conv2D)                     (None, 16, 16, 256)   590080      E3lod[1][0]                      \n",
      "____________________________________________________________________________________________________\n",
      "E3bBN_twin (BatchNormalization)  (None, 16, 16, 256)   1024        E3b[1][0]                        \n",
      "____________________________________________________________________________________________________\n",
      "E3a (Conv2D)                     (None, 16, 16, 256)   590080      E3bBN_twin[0][0]                 \n",
      "____________________________________________________________________________________________________\n",
      "E3aBN_twin (BatchNormalization)  (None, 16, 16, 256)   1024        E3a[1][0]                        \n",
      "____________________________________________________________________________________________________\n",
      "E2xs (AveragePooling2D)          (None, 8, 8, 1)       0           Eimages[0][0]                    \n",
      "____________________________________________________________________________________________________\n",
      "E3dn (AveragePooling2D)          (None, 8, 8, 256)     0           E3aBN_twin[0][0]                 \n",
      "____________________________________________________________________________________________________\n",
      "E2xNIN (Conv2D)                  (None, 8, 8, 256)     512         E2xs[1][0]                       \n",
      "____________________________________________________________________________________________________\n",
      "E2lod (LODSelectLayer)           (None, 8, 8, 256)     0           E3dn[1][0]                       \n",
      "                                                                   E2xNIN[1][0]                     \n",
      "____________________________________________________________________________________________________\n",
      "E2b (Conv2D)                     (None, 8, 8, 256)     590080      E2lod[1][0]                      \n",
      "____________________________________________________________________________________________________\n",
      "E2bBN_twin (BatchNormalization)  (None, 8, 8, 256)     1024        E2b[1][0]                        \n",
      "____________________________________________________________________________________________________\n",
      "E2a (Conv2D)                     (None, 8, 8, 256)     590080      E2bBN_twin[0][0]                 \n",
      "____________________________________________________________________________________________________\n",
      "E2aBN_twin (BatchNormalization)  (None, 8, 8, 256)     1024        E2a[1][0]                        \n",
      "____________________________________________________________________________________________________\n",
      "E1xs (AveragePooling2D)          (None, 4, 4, 1)       0           Eimages[0][0]                    \n",
      "____________________________________________________________________________________________________\n",
      "E2dn (AveragePooling2D)          (None, 4, 4, 256)     0           E2aBN_twin[0][0]                 \n",
      "____________________________________________________________________________________________________\n",
      "E1xNIN (Conv2D)                  (None, 4, 4, 256)     512         E1xs[1][0]                       \n",
      "____________________________________________________________________________________________________\n",
      "E1lod (LODSelectLayer)           (None, 4, 4, 256)     0           E2dn[1][0]                       \n",
      "                                                                   E1xNIN[1][0]                     \n",
      "____________________________________________________________________________________________________\n",
      "E1b (Conv2D)                     (None, 4, 4, 256)     590080      E1lod[1][0]                      \n",
      "____________________________________________________________________________________________________\n",
      "E1bBN_twin (BatchNormalization)  (None, 4, 4, 256)     1024        E1b[1][0]                        \n",
      "____________________________________________________________________________________________________\n",
      "E1a (Conv2D)                     (None, 4, 4, 256)     1048832     E1bBN_twin[0][0]                 \n",
      "____________________________________________________________________________________________________\n",
      "E1aBN_twin (BatchNormalization)  (None, 4, 4, 256)     1024        E1a[1][0]                        \n",
      "____________________________________________________________________________________________________\n",
      "G1a (Conv2D)                     (None, 4, 4, 256)     590080      E1aBN_twin[0][0]                 \n",
      "====================================================================================================\n",
      "Total params: 5,779,712\n",
      "Trainable params: 5,775,616\n",
      "Non-trainable params: 4,096\n",
      "____________________________________________________________________________________________________\n"
     ]
    }
   ],
   "source": [
    "Et_G.summary()"
   ]
  },
  {
   "cell_type": "code",
   "execution_count": null,
   "metadata": {},
   "outputs": [],
   "source": []
  },
  {
   "cell_type": "code",
   "execution_count": 14,
   "metadata": {},
   "outputs": [
    {
     "data": {
      "text/plain": [
       "<keras.models.Sequential at 0x1db0ecdf518>"
      ]
     },
     "execution_count": 14,
     "metadata": {},
     "output_type": "execute_result"
    }
   ],
   "source": [
    "from keras.models import Sequential\n",
    "Sequential([G, D])"
   ]
  },
  {
   "cell_type": "code",
   "execution_count": 10,
   "metadata": {
    "scrolled": true
   },
   "outputs": [],
   "source": [
    "D = model.Discriminator(resolution=32)"
   ]
  },
  {
   "cell_type": "code",
   "execution_count": 16,
   "metadata": {
    "scrolled": false
   },
   "outputs": [
    {
     "name": "stdout",
     "output_type": "stream",
     "text": [
      "____________________________________________________________________________________________________\n",
      "Layer (type)                     Output Shape          Param #     Connected to                     \n",
      "====================================================================================================\n",
      "Dimages (InputLayer)             (None, 16, 16, 1)     0                                            \n",
      "____________________________________________________________________________________________________\n",
      "D3xNIN (Conv2D)                  (None, 16, 16, 256)   256         Dimages[0][0]                    \n",
      "____________________________________________________________________________________________________\n",
      "D3xNINWS (WScaleLayer)           (None, 16, 16, 256)   1.0         D3xNIN[0][0]                     \n",
      "____________________________________________________________________________________________________\n",
      "add_bias_layer_73 (AddBiasLayer) (None, 16, 16, 256)   256         D3xNINWS[0][0]                   \n",
      "____________________________________________________________________________________________________\n",
      "activation_73 (Activation)       (None, 16, 16, 256)   0           add_bias_layer_73[0][0]          \n",
      "____________________________________________________________________________________________________\n",
      "D3b (Conv2D)                     (None, 16, 16, 256)   589824      activation_73[0][0]              \n",
      "____________________________________________________________________________________________________\n",
      "D3bws (WScaleLayer)              (None, 16, 16, 256)   1.0         D3b[0][0]                        \n",
      "____________________________________________________________________________________________________\n",
      "add_bias_layer_74 (AddBiasLayer) (None, 16, 16, 256)   256         D3bws[0][0]                      \n",
      "____________________________________________________________________________________________________\n",
      "activation_74 (Activation)       (None, 16, 16, 256)   0           add_bias_layer_74[0][0]          \n",
      "____________________________________________________________________________________________________\n",
      "D3bBN (BatchNormalization)       (None, 16, 16, 256)   1024        activation_74[0][0]              \n",
      "____________________________________________________________________________________________________\n",
      "D3a (Conv2D)                     (None, 16, 16, 256)   589824      D3bBN[0][0]                      \n",
      "____________________________________________________________________________________________________\n",
      "D3aws (WScaleLayer)              (None, 16, 16, 256)   1.0         D3a[0][0]                        \n",
      "____________________________________________________________________________________________________\n",
      "D2xs (AveragePooling2D)          (None, 8, 8, 1)       0           Dimages[0][0]                    \n",
      "____________________________________________________________________________________________________\n",
      "add_bias_layer_75 (AddBiasLayer) (None, 16, 16, 256)   256         D3aws[0][0]                      \n",
      "____________________________________________________________________________________________________\n",
      "D2xNIN (Conv2D)                  (None, 8, 8, 256)     256         D2xs[0][0]                       \n",
      "____________________________________________________________________________________________________\n",
      "activation_75 (Activation)       (None, 16, 16, 256)   0           add_bias_layer_75[0][0]          \n",
      "____________________________________________________________________________________________________\n",
      "D2xNINWS (WScaleLayer)           (None, 8, 8, 256)     1.0         D2xNIN[0][0]                     \n",
      "____________________________________________________________________________________________________\n",
      "D3aBN (BatchNormalization)       (None, 16, 16, 256)   1024        activation_75[0][0]              \n",
      "____________________________________________________________________________________________________\n",
      "add_bias_layer_76 (AddBiasLayer) (None, 8, 8, 256)     256         D2xNINWS[0][0]                   \n",
      "____________________________________________________________________________________________________\n",
      "D3dn (AveragePooling2D)          (None, 8, 8, 256)     0           D3aBN[0][0]                      \n",
      "____________________________________________________________________________________________________\n",
      "activation_76 (Activation)       (None, 8, 8, 256)     0           add_bias_layer_76[0][0]          \n",
      "____________________________________________________________________________________________________\n",
      "D2lod (LODSelectLayer)           (None, 8, 8, 256)     0           D3dn[0][0]                       \n",
      "                                                                   activation_76[0][0]              \n",
      "____________________________________________________________________________________________________\n",
      "D2b (Conv2D)                     (None, 8, 8, 256)     589824      D2lod[0][0]                      \n",
      "____________________________________________________________________________________________________\n",
      "D2bws (WScaleLayer)              (None, 8, 8, 256)     1.0         D2b[0][0]                        \n",
      "____________________________________________________________________________________________________\n",
      "add_bias_layer_77 (AddBiasLayer) (None, 8, 8, 256)     256         D2bws[0][0]                      \n",
      "____________________________________________________________________________________________________\n",
      "activation_77 (Activation)       (None, 8, 8, 256)     0           add_bias_layer_77[0][0]          \n",
      "____________________________________________________________________________________________________\n",
      "D2bBN (BatchNormalization)       (None, 8, 8, 256)     1024        activation_77[0][0]              \n",
      "____________________________________________________________________________________________________\n",
      "D2a (Conv2D)                     (None, 8, 8, 256)     589824      D2bBN[0][0]                      \n",
      "____________________________________________________________________________________________________\n",
      "D2aws (WScaleLayer)              (None, 8, 8, 256)     1.0         D2a[0][0]                        \n",
      "____________________________________________________________________________________________________\n",
      "D1xs (AveragePooling2D)          (None, 4, 4, 1)       0           Dimages[0][0]                    \n",
      "____________________________________________________________________________________________________\n",
      "add_bias_layer_78 (AddBiasLayer) (None, 8, 8, 256)     256         D2aws[0][0]                      \n",
      "____________________________________________________________________________________________________\n",
      "D1xNIN (Conv2D)                  (None, 4, 4, 256)     256         D1xs[0][0]                       \n",
      "____________________________________________________________________________________________________\n",
      "activation_78 (Activation)       (None, 8, 8, 256)     0           add_bias_layer_78[0][0]          \n",
      "____________________________________________________________________________________________________\n",
      "D1xNINWS (WScaleLayer)           (None, 4, 4, 256)     1.0         D1xNIN[0][0]                     \n",
      "____________________________________________________________________________________________________\n",
      "D2aBN (BatchNormalization)       (None, 8, 8, 256)     1024        activation_78[0][0]              \n",
      "____________________________________________________________________________________________________\n",
      "add_bias_layer_79 (AddBiasLayer) (None, 4, 4, 256)     256         D1xNINWS[0][0]                   \n",
      "____________________________________________________________________________________________________\n",
      "D2dn (AveragePooling2D)          (None, 4, 4, 256)     0           D2aBN[0][0]                      \n",
      "____________________________________________________________________________________________________\n",
      "activation_79 (Activation)       (None, 4, 4, 256)     0           add_bias_layer_79[0][0]          \n",
      "____________________________________________________________________________________________________\n",
      "D1lod (LODSelectLayer)           (None, 4, 4, 256)     0           D2dn[0][0]                       \n",
      "                                                                   activation_79[0][0]              \n",
      "____________________________________________________________________________________________________\n",
      "Dstat (MinibatchStatConcatLayer) (None, 4, 4, 257)     0           D1lod[0][0]                      \n",
      "____________________________________________________________________________________________________\n",
      "D1b (Conv2D)                     (None, 4, 4, 256)     592128      Dstat[0][0]                      \n",
      "____________________________________________________________________________________________________\n",
      "D1bws (WScaleLayer)              (None, 4, 4, 256)     1.0         D1b[0][0]                        \n",
      "____________________________________________________________________________________________________\n",
      "add_bias_layer_80 (AddBiasLayer) (None, 4, 4, 256)     256         D1bws[0][0]                      \n",
      "____________________________________________________________________________________________________\n",
      "activation_80 (Activation)       (None, 4, 4, 256)     0           add_bias_layer_80[0][0]          \n",
      "____________________________________________________________________________________________________\n",
      "D1bBN (BatchNormalization)       (None, 4, 4, 256)     1024        activation_80[0][0]              \n",
      "____________________________________________________________________________________________________\n",
      "D1a (Conv2D)                     (None, 1, 1, 256)     1048576     D1bBN[0][0]                      \n",
      "____________________________________________________________________________________________________\n",
      "D1aws (WScaleLayer)              (None, 1, 1, 256)     1.0         D1a[0][0]                        \n",
      "____________________________________________________________________________________________________\n",
      "add_bias_layer_81 (AddBiasLayer) (None, 1, 1, 256)     256         D1aws[0][0]                      \n",
      "____________________________________________________________________________________________________\n",
      "activation_81 (Activation)       (None, 1, 1, 256)     0           add_bias_layer_81[0][0]          \n",
      "____________________________________________________________________________________________________\n",
      "D1aBN (BatchNormalization)       (None, 1, 1, 256)     1024        activation_81[0][0]              \n",
      "____________________________________________________________________________________________________\n",
      "Dscores (Dense)                  (None, 1, 1, 1)       256         D1aBN[0][0]                      \n",
      "____________________________________________________________________________________________________\n",
      "Dscoresws (WScaleLayer)          (None, 1, 1, 1)       1.0         Dscores[0][0]                    \n",
      "____________________________________________________________________________________________________\n",
      "add_bias_layer_82 (AddBiasLayer) (None, 1, 1, 1)       1           Dscoresws[0][0]                  \n",
      "____________________________________________________________________________________________________\n",
      "activation_82 (Activation)       (None, 1, 1, 1)       0           add_bias_layer_82[0][0]          \n",
      "====================================================================================================\n",
      "Total params: 4,009,483\n",
      "Trainable params: 4,006,401\n",
      "Non-trainable params: 3,082\n",
      "____________________________________________________________________________________________________\n"
     ]
    }
   ],
   "source": [
    "D.summary()"
   ]
  },
  {
   "cell_type": "code",
   "execution_count": null,
   "metadata": {},
   "outputs": [],
   "source": []
  },
  {
   "cell_type": "code",
   "execution_count": null,
   "metadata": {},
   "outputs": [],
   "source": []
  },
  {
   "cell_type": "code",
   "execution_count": 3,
   "metadata": {},
   "outputs": [],
   "source": [
    "tw = model.replace_batch_norm(G)"
   ]
  },
  {
   "cell_type": "code",
   "execution_count": 21,
   "metadata": {},
   "outputs": [],
   "source": [
    "enc = model.Encoder()"
   ]
  },
  {
   "cell_type": "code",
   "execution_count": 6,
   "metadata": {},
   "outputs": [],
   "source": [
    "enc_tw = model.replace_batch_norm(enc)"
   ]
  },
  {
   "cell_type": "code",
   "execution_count": 7,
   "metadata": {
    "collapsed": true
   },
   "outputs": [
    {
     "name": "stdout",
     "output_type": "stream",
     "text": [
      "____________________________________________________________________________________________________\n",
      "Layer (type)                     Output Shape          Param #     Connected to                     \n",
      "====================================================================================================\n",
      "Dimages (InputLayer)             (None, 32, 32, 1)     0                                            \n",
      "____________________________________________________________________________________________________\n",
      "D4xNIN (Conv2D)                  (None, 32, 32, 256)   256         Dimages[0][0]                    \n",
      "____________________________________________________________________________________________________\n",
      "D4xNINWS (WScaleLayer)           (None, 32, 32, 256)   1.0         D4xNIN[0][0]                     \n",
      "____________________________________________________________________________________________________\n",
      "add_bias_layer_1 (AddBiasLayer)  (None, 32, 32, 256)   256         D4xNINWS[0][0]                   \n",
      "____________________________________________________________________________________________________\n",
      "activation_1 (Activation)        (None, 32, 32, 256)   0           add_bias_layer_1[0][0]           \n",
      "____________________________________________________________________________________________________\n",
      "D4bPad (ZeroPadding2D)           (None, 34, 34, 256)   0           activation_1[0][0]               \n",
      "____________________________________________________________________________________________________\n",
      "D4b (Conv2D)                     (None, 32, 32, 256)   589824      D4bPad[0][0]                     \n",
      "____________________________________________________________________________________________________\n",
      "D4bws (WScaleLayer)              (None, 32, 32, 256)   1.0         D4b[0][0]                        \n",
      "____________________________________________________________________________________________________\n",
      "add_bias_layer_2 (AddBiasLayer)  (None, 32, 32, 256)   256         D4bws[0][0]                      \n",
      "____________________________________________________________________________________________________\n",
      "activation_2 (Activation)        (None, 32, 32, 256)   0           add_bias_layer_2[0][0]           \n",
      "____________________________________________________________________________________________________\n",
      "D4bBN (BatchNormalization)       (None, 32, 32, 256)   1024        activation_2[0][0]               \n",
      "____________________________________________________________________________________________________\n",
      "D4aPad (ZeroPadding2D)           (None, 34, 34, 256)   0           D4bBN[0][0]                      \n",
      "____________________________________________________________________________________________________\n",
      "D4a (Conv2D)                     (None, 32, 32, 256)   589824      D4aPad[0][0]                     \n",
      "____________________________________________________________________________________________________\n",
      "D4aws (WScaleLayer)              (None, 32, 32, 256)   1.0         D4a[0][0]                        \n",
      "____________________________________________________________________________________________________\n",
      "D3xs (AveragePooling2D)          (None, 16, 16, 1)     0           Dimages[0][0]                    \n",
      "____________________________________________________________________________________________________\n",
      "add_bias_layer_3 (AddBiasLayer)  (None, 32, 32, 256)   256         D4aws[0][0]                      \n",
      "____________________________________________________________________________________________________\n",
      "D3xNIN (Conv2D)                  (None, 16, 16, 256)   256         D3xs[0][0]                       \n",
      "____________________________________________________________________________________________________\n",
      "activation_3 (Activation)        (None, 32, 32, 256)   0           add_bias_layer_3[0][0]           \n",
      "____________________________________________________________________________________________________\n",
      "D3xNINWS (WScaleLayer)           (None, 16, 16, 256)   1.0         D3xNIN[0][0]                     \n",
      "____________________________________________________________________________________________________\n",
      "D4aBN (BatchNormalization)       (None, 32, 32, 256)   1024        activation_3[0][0]               \n",
      "____________________________________________________________________________________________________\n",
      "add_bias_layer_4 (AddBiasLayer)  (None, 16, 16, 256)   256         D3xNINWS[0][0]                   \n",
      "____________________________________________________________________________________________________\n",
      "D4dn (AveragePooling2D)          (None, 16, 16, 256)   0           D4aBN[0][0]                      \n",
      "____________________________________________________________________________________________________\n",
      "activation_4 (Activation)        (None, 16, 16, 256)   0           add_bias_layer_4[0][0]           \n",
      "____________________________________________________________________________________________________\n",
      "D3lod (LODSelectLayer)           (None, 16, 16, 256)   0           D4dn[0][0]                       \n",
      "                                                                   activation_4[0][0]               \n",
      "____________________________________________________________________________________________________\n",
      "D3bPad (ZeroPadding2D)           (None, 18, 18, 256)   0           D3lod[0][0]                      \n",
      "____________________________________________________________________________________________________\n",
      "D3b (Conv2D)                     (None, 16, 16, 256)   589824      D3bPad[0][0]                     \n",
      "____________________________________________________________________________________________________\n",
      "D3bws (WScaleLayer)              (None, 16, 16, 256)   1.0         D3b[0][0]                        \n",
      "____________________________________________________________________________________________________\n",
      "add_bias_layer_5 (AddBiasLayer)  (None, 16, 16, 256)   256         D3bws[0][0]                      \n",
      "____________________________________________________________________________________________________\n",
      "activation_5 (Activation)        (None, 16, 16, 256)   0           add_bias_layer_5[0][0]           \n",
      "____________________________________________________________________________________________________\n",
      "D3bBN (BatchNormalization)       (None, 16, 16, 256)   1024        activation_5[0][0]               \n",
      "____________________________________________________________________________________________________\n",
      "D3aPad (ZeroPadding2D)           (None, 18, 18, 256)   0           D3bBN[0][0]                      \n",
      "____________________________________________________________________________________________________\n",
      "D3a (Conv2D)                     (None, 16, 16, 256)   589824      D3aPad[0][0]                     \n",
      "____________________________________________________________________________________________________\n",
      "D3aws (WScaleLayer)              (None, 16, 16, 256)   1.0         D3a[0][0]                        \n",
      "____________________________________________________________________________________________________\n",
      "D2xs (AveragePooling2D)          (None, 8, 8, 1)       0           Dimages[0][0]                    \n",
      "____________________________________________________________________________________________________\n",
      "add_bias_layer_6 (AddBiasLayer)  (None, 16, 16, 256)   256         D3aws[0][0]                      \n",
      "____________________________________________________________________________________________________\n",
      "D2xNIN (Conv2D)                  (None, 8, 8, 256)     256         D2xs[0][0]                       \n",
      "____________________________________________________________________________________________________\n",
      "activation_6 (Activation)        (None, 16, 16, 256)   0           add_bias_layer_6[0][0]           \n",
      "____________________________________________________________________________________________________\n",
      "D2xNINWS (WScaleLayer)           (None, 8, 8, 256)     1.0         D2xNIN[0][0]                     \n",
      "____________________________________________________________________________________________________\n",
      "D3aBN (BatchNormalization)       (None, 16, 16, 256)   1024        activation_6[0][0]               \n",
      "____________________________________________________________________________________________________\n",
      "add_bias_layer_7 (AddBiasLayer)  (None, 8, 8, 256)     256         D2xNINWS[0][0]                   \n",
      "____________________________________________________________________________________________________\n",
      "D3dn (AveragePooling2D)          (None, 8, 8, 256)     0           D3aBN[0][0]                      \n",
      "____________________________________________________________________________________________________\n",
      "activation_7 (Activation)        (None, 8, 8, 256)     0           add_bias_layer_7[0][0]           \n",
      "____________________________________________________________________________________________________\n",
      "D2lod (LODSelectLayer)           (None, 8, 8, 256)     0           D3dn[0][0]                       \n",
      "                                                                   activation_7[0][0]               \n",
      "____________________________________________________________________________________________________\n",
      "D1bPad (ZeroPadding2D)           (None, 10, 10, 256)   0           D2lod[0][0]                      \n",
      "____________________________________________________________________________________________________\n",
      "D1b (Conv2D)                     (None, 8, 8, 256)     589824      D1bPad[0][0]                     \n",
      "____________________________________________________________________________________________________\n",
      "D1bws (WScaleLayer)              (None, 8, 8, 256)     1.0         D1b[0][0]                        \n",
      "____________________________________________________________________________________________________\n",
      "add_bias_layer_8 (AddBiasLayer)  (None, 8, 8, 256)     256         D1bws[0][0]                      \n",
      "____________________________________________________________________________________________________\n",
      "activation_8 (Activation)        (None, 8, 8, 256)     0           add_bias_layer_8[0][0]           \n",
      "____________________________________________________________________________________________________\n",
      "D1bBN (BatchNormalization)       (None, 8, 8, 256)     1024        activation_8[0][0]               \n",
      "____________________________________________________________________________________________________\n",
      "D1aPad (ZeroPadding2D)           (None, 8, 8, 256)     0           D1bBN[0][0]                      \n",
      "____________________________________________________________________________________________________\n",
      "D1a (Conv2D)                     (None, 5, 5, 256)     1048576     D1aPad[0][0]                     \n",
      "____________________________________________________________________________________________________\n",
      "D1aws (WScaleLayer)              (None, 5, 5, 256)     1.0         D1a[0][0]                        \n",
      "____________________________________________________________________________________________________\n",
      "add_bias_layer_9 (AddBiasLayer)  (None, 5, 5, 256)     256         D1aws[0][0]                      \n",
      "____________________________________________________________________________________________________\n",
      "activation_9 (Activation)        (None, 5, 5, 256)     0           add_bias_layer_9[0][0]           \n",
      "____________________________________________________________________________________________________\n",
      "D1aBN (BatchNormalization)       (None, 5, 5, 256)     1024        activation_9[0][0]               \n",
      "====================================================================================================\n",
      "Total params: 4,006,921\n",
      "Trainable params: 4,003,840\n",
      "Non-trainable params: 3,081\n",
      "____________________________________________________________________________________________________\n"
     ]
    }
   ],
   "source": [
    "enc.summary()"
   ]
  },
  {
   "cell_type": "code",
   "execution_count": null,
   "metadata": {},
   "outputs": [],
   "source": []
  },
  {
   "cell_type": "code",
   "execution_count": null,
   "metadata": {},
   "outputs": [],
   "source": []
  }
 ],
 "metadata": {
  "kernelspec": {
   "display_name": "Python 3",
   "language": "python",
   "name": "python3"
  },
  "language_info": {
   "codemirror_mode": {
    "name": "ipython",
    "version": 3
   },
   "file_extension": ".py",
   "mimetype": "text/x-python",
   "name": "python",
   "nbconvert_exporter": "python",
   "pygments_lexer": "ipython3",
   "version": "3.6.6"
  }
 },
 "nbformat": 4,
 "nbformat_minor": 2
}
