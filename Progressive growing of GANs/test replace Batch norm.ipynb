{
 "cells": [
  {
   "cell_type": "code",
   "execution_count": 50,
   "metadata": {},
   "outputs": [
    {
     "data": {
      "text/plain": [
       "<module 'model' from 'C:\\\\Users\\\\Paul\\\\Documents\\\\Keras-progressive_growing_of_gans\\\\Progressive growing of GANs\\\\model.py'>"
      ]
     },
     "execution_count": 50,
     "metadata": {},
     "output_type": "execute_result"
    }
   ],
   "source": [
    "import numpy as np\n",
    "import model\n",
    "from importlib import reload\n",
    "reload(model)\n"
   ]
  },
  {
   "cell_type": "code",
   "execution_count": 51,
   "metadata": {},
   "outputs": [],
   "source": [
    "G = model.Generator(use_wscale=False)"
   ]
  },
  {
   "cell_type": "code",
   "execution_count": 7,
   "metadata": {},
   "outputs": [],
   "source": [
    "import keras\n",
    "import pydotplus\n",
    "from keras.utils.vis_utils import model_to_dot\n",
    "import pydot\n",
    "from keras.utils import plot_model\n",
    "keras.utils.vis_utils.pydot = pydot\n",
    "plot_model(G, to_file='model.png')"
   ]
  },
  {
   "cell_type": "code",
   "execution_count": 52,
   "metadata": {},
   "outputs": [
    {
     "name": "stdout",
     "output_type": "stream",
     "text": [
      "{'input_layers_of': {'Gnorm': ['Glatents'], 'G1nb': ['Gnorm'], 'G1aPad': ['G1nb'], 'G1a': ['G1aPad'], 'G1aBN': ['G1a'], 'G1aPN': ['G1aBN'], 'G1bPad': ['G1aPN'], 'G1b': ['G1bPad'], 'G1bBN': ['G1b'], 'G1bPN': ['G1bBN'], 'G2up': ['G1bPN'], 'Glod3NIN': ['G1bPN'], 'G2aPad': ['G2up'], 'G2a': ['G2aPad'], 'G2aBN': ['G2a'], 'G2aPN': ['G2aBN'], 'G2bPad': ['G2aPN'], 'G2b': ['G2bPad'], 'G2bBN': ['G2b'], 'G2bPN': ['G2bBN'], 'G3up': ['G2bPN'], 'Glod2NIN': ['G2bPN'], 'G3aPad': ['G3up'], 'G3a': ['G3aPad'], 'G3aBN': ['G3a'], 'G3aPN': ['G3aBN'], 'G3bPad': ['G3aPN'], 'G3b': ['G3bPad'], 'G3bBN': ['G3b'], 'G3bPN': ['G3bBN'], 'G4up': ['G3bPN'], 'Glod1NIN': ['G3bPN'], 'G4aPad': ['G4up'], 'G4a': ['G4aPad'], 'G4aBN': ['G4a'], 'G4aPN': ['G4aBN'], 'G4bPad': ['G4aPN'], 'G4b': ['G4bPad'], 'G4bBN': ['G4b'], 'G4bPN': ['G4bBN'], 'Glod0NIN': ['G4bPN'], 'actv_resize_layer_33': ['Glod0NIN'], 'Glod': ['Glod0NIN', 'Glod1NIN', 'Glod2NIN', 'Glod3NIN'], 'actv_resize_layer_34': ['Glod1NIN'], 'actv_resize_layer_35': ['Glod2NIN'], 'actv_resize_layer_36': ['Glod3NIN']}, 'new_output_tensor_of': {'Glatents': <tf.Tensor 'Glatents_3:0' shape=(?, 256) dtype=float32>}}\n"
     ]
    }
   ],
   "source": [
    "#def insert_layer_nonseq(model, layer_regex, insert_layer_factory, insert_layer_name=None, position='after'):\n",
    "model = G\n",
    "\n",
    "# Auxiliary dictionary to describe the network graph\n",
    "network_dict = {'input_layers_of': {}, 'new_output_tensor_of': {}}\n",
    "\n",
    "# Set the input layers of each layer\n",
    "for layer in model.layers:\n",
    "    for node in layer.outbound_nodes:\n",
    "        layer_name = node.outbound_layer.name\n",
    "        if layer_name not in network_dict['input_layers_of']:\n",
    "            network_dict['input_layers_of'].update(\n",
    "                    {layer_name: [layer.name]})\n",
    "        else:\n",
    "            network_dict['input_layers_of'][layer_name].append(layer.name)\n",
    "\n",
    "# Set the output tensor of the input layer\n",
    "network_dict['new_output_tensor_of'].update(\n",
    "        {model.layers[0].name: model.input})\n",
    "print(network_dict)"
   ]
  },
  {
   "cell_type": "code",
   "execution_count": 53,
   "metadata": {},
   "outputs": [
    {
     "name": "stdout",
     "output_type": "stream",
     "text": [
      "Layer G1aBN_new inserted after layer G1aBN\n",
      "Layer G1bBN_new inserted after layer G1bBN\n",
      "Layer G2aBN_new inserted after layer G2aBN\n",
      "Layer G2bBN_new inserted after layer G2bBN\n",
      "Layer G3aBN_new inserted after layer G3aBN\n",
      "Layer G3bBN_new inserted after layer G3bBN\n",
      "Layer G4aBN_new inserted after layer G4aBN\n",
      "Layer G4bBN_new inserted after layer G4bBN\n"
     ]
    }
   ],
   "source": [
    "import re\n",
    "from keras.models import Model\n",
    "\n",
    "# source : https://stackoverflow.com/questions/49492255/how-to-replace-or-insert-intermediate-layer-in-keras-model\n",
    "\n",
    "# Iterate over all layers after the input\n",
    "for layer in model.layers[1:]:\n",
    "\n",
    "    # Determine input tensors\n",
    "    layer_input = [network_dict['new_output_tensor_of'][layer_aux] \n",
    "            for layer_aux in network_dict['input_layers_of'][layer.name]]\n",
    "    if len(layer_input) == 1:\n",
    "        layer_input = layer_input[0]\n",
    "\n",
    "    # Insert layer if name matches the regular expression\n",
    "    if 'BN' in layer.name:\n",
    "        # replace layer\n",
    "        x = layer_input\n",
    "\n",
    "        new_layer = BatchNormalization(name=layer.name + '_new')\n",
    "        \n",
    "        x = new_layer(x)\n",
    "        print('Layer {} inserted after layer {}'.format(new_layer.name, layer.name))\n",
    "\n",
    "    else:\n",
    "        x = layer(layer_input)\n",
    "\n",
    "    # Set new output tensor (the original one, or the one of the inserted\n",
    "    # layer)\n",
    "    network_dict['new_output_tensor_of'].update({layer.name: x})\n",
    "    \n",
    "G_twin = Model(inputs=model.inputs, outputs=x)\n",
    "#return Model(inputs=model.inputs, outputs=x)"
   ]
  },
  {
   "cell_type": "code",
   "execution_count": null,
   "metadata": {},
   "outputs": [],
   "source": []
  }
 ],
 "metadata": {
  "kernelspec": {
   "display_name": "Python 3",
   "language": "python",
   "name": "python3"
  },
  "language_info": {
   "codemirror_mode": {
    "name": "ipython",
    "version": 3
   },
   "file_extension": ".py",
   "mimetype": "text/x-python",
   "name": "python",
   "nbconvert_exporter": "python",
   "pygments_lexer": "ipython3",
   "version": "3.6.6"
  }
 },
 "nbformat": 4,
 "nbformat_minor": 2
}
