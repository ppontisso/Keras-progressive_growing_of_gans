{
 "cells": [
  {
   "cell_type": "code",
   "execution_count": 1,
   "metadata": {},
   "outputs": [
    {
     "name": "stderr",
     "output_type": "stream",
     "text": [
      "Using TensorFlow backend.\n"
     ]
    }
   ],
   "source": [
    "import numpy as np\n",
    "from model import *\n",
    "from train import *\n",
    "%load_ext autoreload\n",
    "%autoreload 2\n",
    "from data_generator import *"
   ]
  },
  {
   "cell_type": "code",
   "execution_count": 2,
   "metadata": {},
   "outputs": [],
   "source": [
    "images_dir1 = 'datasets/CelebA'\n",
    "images_dir2 = 'datasets/dogs'\n",
    "batch_size = 2"
   ]
  },
  {
   "cell_type": "code",
   "execution_count": 3,
   "metadata": {},
   "outputs": [
    {
     "name": "stdout",
     "output_type": "stream",
     "text": [
      "inputs :  [(None, 16, 16, 256), (None, 16, 16, 256)]\n",
      "inputs :  [(None, 8, 8, 512), (None, 8, 8, 512)]\n",
      "inputs :  [(None, 4, 4, 512), (None, 4, 4, 512)]\n",
      "WARNING:tensorflow:From C:\\Users\\Paul\\Anaconda3\\lib\\site-packages\\keras\\backend\\tensorflow_backend.py:1290: calling reduce_mean (from tensorflow.python.ops.math_ops) with keep_dims is deprecated and will be removed in a future version.\n",
      "Instructions for updating:\n",
      "keep_dims is deprecated, use keepdims instead\n",
      "inputs :  [(None, 32, 32, 3), (None, 16, 16, 3), (None, 8, 8, 3), (None, 4, 4, 3)]\n"
     ]
    }
   ],
   "source": [
    "E_G = Encoder_Generator(num_channels=3, resolution=32, **config.G)"
   ]
  },
  {
   "cell_type": "code",
   "execution_count": 4,
   "metadata": {},
   "outputs": [
    {
     "name": "stdout",
     "output_type": "stream",
     "text": [
      "WARNING:tensorflow:From C:\\Users\\Paul\\Anaconda3\\lib\\site-packages\\keras\\backend\\tensorflow_backend.py:1188: calling reduce_sum (from tensorflow.python.ops.math_ops) with keep_dims is deprecated and will be removed in a future version.\n",
      "Instructions for updating:\n",
      "keep_dims is deprecated, use keepdims instead\n"
     ]
    }
   ],
   "source": [
    "E_G.compile(optimizers.Adam(lr=0.0),\n",
    "          loss=cycle_consistency_loss)\n",
    "\n",
    "data_generator1 = DataGenerator(images_dir=images_dir1)\n",
    "data_generator2 = DataGenerator(images_dir=images_dir2)\n",
    "\n",
    "generator1 = data_generator1.generate(batch_size=4, img_size=32)\n",
    "generator2 = data_generator2.generate(batch_size=4, img_size=32)\n",
    "\n",
    "real_1 = next(generator1)\n",
    "real_2 = next(generator2)"
   ]
  },
  {
   "cell_type": "code",
   "execution_count": 5,
   "metadata": {},
   "outputs": [],
   "source": [
    "K.set_value(E_G.cur_lod,np.float32(0))"
   ]
  },
  {
   "cell_type": "code",
   "execution_count": 6,
   "metadata": {},
   "outputs": [
    {
     "data": {
      "text/plain": [
       "<tf.Variable 'cur_lod:0' shape=() dtype=float32_ref>"
      ]
     },
     "execution_count": 6,
     "metadata": {},
     "output_type": "execute_result"
    }
   ],
   "source": [
    "E_G.cur_lod"
   ]
  },
  {
   "cell_type": "code",
   "execution_count": 7,
   "metadata": {},
   "outputs": [
    {
     "name": "stdout",
     "output_type": "stream",
     "text": [
      "____________________________________________________________________________________________________\n",
      "Layer (type)                     Output Shape          Param #     Connected to                     \n",
      "====================================================================================================\n",
      "Eimages (InputLayer)             (None, 32, 32, 3)     0                                            \n",
      "____________________________________________________________________________________________________\n",
      "E4xNIN (Conv2D)                  (None, 32, 32, 128)   384         Eimages[0][0]                    \n",
      "____________________________________________________________________________________________________\n",
      "E4xNINWS (WScaleLayer)           (None, 32, 32, 128)   1.0         E4xNIN[0][0]                     \n",
      "____________________________________________________________________________________________________\n",
      "add_bias_layer_1 (AddBiasLayer)  (None, 32, 32, 128)   128         E4xNINWS[0][0]                   \n",
      "____________________________________________________________________________________________________\n",
      "activation_1 (Activation)        (None, 32, 32, 128)   0           add_bias_layer_1[0][0]           \n",
      "____________________________________________________________________________________________________\n",
      "E4b (Conv2D)                     (None, 32, 32, 128)   147456      activation_1[0][0]               \n",
      "____________________________________________________________________________________________________\n",
      "E4bws (WScaleLayer)              (None, 32, 32, 128)   1.0         E4b[0][0]                        \n",
      "____________________________________________________________________________________________________\n",
      "add_bias_layer_2 (AddBiasLayer)  (None, 32, 32, 128)   128         E4bws[0][0]                      \n",
      "____________________________________________________________________________________________________\n",
      "activation_2 (Activation)        (None, 32, 32, 128)   0           add_bias_layer_2[0][0]           \n",
      "____________________________________________________________________________________________________\n",
      "E4bBN (BatchNormalization)       (None, 32, 32, 128)   512         activation_2[0][0]               \n",
      "____________________________________________________________________________________________________\n",
      "E4a (Conv2D)                     (None, 32, 32, 256)   294912      E4bBN[0][0]                      \n",
      "____________________________________________________________________________________________________\n",
      "E4aws (WScaleLayer)              (None, 32, 32, 256)   1.0         E4a[0][0]                        \n",
      "____________________________________________________________________________________________________\n",
      "E3xs (AveragePooling2D)          (None, 16, 16, 3)     0           Eimages[0][0]                    \n",
      "____________________________________________________________________________________________________\n",
      "add_bias_layer_3 (AddBiasLayer)  (None, 32, 32, 256)   256         E4aws[0][0]                      \n",
      "____________________________________________________________________________________________________\n",
      "E3xNIN (Conv2D)                  (None, 16, 16, 256)   768         E3xs[0][0]                       \n",
      "____________________________________________________________________________________________________\n",
      "activation_3 (Activation)        (None, 32, 32, 256)   0           add_bias_layer_3[0][0]           \n",
      "____________________________________________________________________________________________________\n",
      "E3xNINWS (WScaleLayer)           (None, 16, 16, 256)   1.0         E3xNIN[0][0]                     \n",
      "____________________________________________________________________________________________________\n",
      "E4aBN (BatchNormalization)       (None, 32, 32, 256)   1024        activation_3[0][0]               \n",
      "____________________________________________________________________________________________________\n",
      "add_bias_layer_4 (AddBiasLayer)  (None, 16, 16, 256)   256         E3xNINWS[0][0]                   \n",
      "____________________________________________________________________________________________________\n",
      "E4dn (AveragePooling2D)          (None, 16, 16, 256)   0           E4aBN[0][0]                      \n",
      "____________________________________________________________________________________________________\n",
      "activation_4 (Activation)        (None, 16, 16, 256)   0           add_bias_layer_4[0][0]           \n",
      "____________________________________________________________________________________________________\n",
      "E3lod (LODSelectLayer)           (None, 16, 16, 256)   0           E4dn[0][0]                       \n",
      "                                                                   activation_4[0][0]               \n",
      "____________________________________________________________________________________________________\n",
      "E3b (Conv2D)                     (None, 16, 16, 256)   589824      E3lod[0][0]                      \n",
      "____________________________________________________________________________________________________\n",
      "E3bws (WScaleLayer)              (None, 16, 16, 256)   1.0         E3b[0][0]                        \n",
      "____________________________________________________________________________________________________\n",
      "add_bias_layer_5 (AddBiasLayer)  (None, 16, 16, 256)   256         E3bws[0][0]                      \n",
      "____________________________________________________________________________________________________\n",
      "activation_5 (Activation)        (None, 16, 16, 256)   0           add_bias_layer_5[0][0]           \n",
      "____________________________________________________________________________________________________\n",
      "E3bBN (BatchNormalization)       (None, 16, 16, 256)   1024        activation_5[0][0]               \n",
      "____________________________________________________________________________________________________\n",
      "E3a (Conv2D)                     (None, 16, 16, 512)   1179648     E3bBN[0][0]                      \n",
      "____________________________________________________________________________________________________\n",
      "E3aws (WScaleLayer)              (None, 16, 16, 512)   1.0         E3a[0][0]                        \n",
      "____________________________________________________________________________________________________\n",
      "E2xs (AveragePooling2D)          (None, 8, 8, 3)       0           Eimages[0][0]                    \n",
      "____________________________________________________________________________________________________\n",
      "add_bias_layer_6 (AddBiasLayer)  (None, 16, 16, 512)   512         E3aws[0][0]                      \n",
      "____________________________________________________________________________________________________\n",
      "E2xNIN (Conv2D)                  (None, 8, 8, 512)     1536        E2xs[0][0]                       \n",
      "____________________________________________________________________________________________________\n",
      "activation_6 (Activation)        (None, 16, 16, 512)   0           add_bias_layer_6[0][0]           \n",
      "____________________________________________________________________________________________________\n",
      "E2xNINWS (WScaleLayer)           (None, 8, 8, 512)     1.0         E2xNIN[0][0]                     \n",
      "____________________________________________________________________________________________________\n",
      "E3aBN (BatchNormalization)       (None, 16, 16, 512)   2048        activation_6[0][0]               \n",
      "____________________________________________________________________________________________________\n",
      "add_bias_layer_7 (AddBiasLayer)  (None, 8, 8, 512)     512         E2xNINWS[0][0]                   \n",
      "____________________________________________________________________________________________________\n",
      "E3dn (AveragePooling2D)          (None, 8, 8, 512)     0           E3aBN[0][0]                      \n",
      "____________________________________________________________________________________________________\n",
      "activation_7 (Activation)        (None, 8, 8, 512)     0           add_bias_layer_7[0][0]           \n",
      "____________________________________________________________________________________________________\n",
      "E2lod (LODSelectLayer)           (None, 8, 8, 512)     0           E3dn[0][0]                       \n"
     ]
    },
    {
     "name": "stdout",
     "output_type": "stream",
     "text": [
      "                                                                   activation_7[0][0]               \n",
      "____________________________________________________________________________________________________\n",
      "E2b (Conv2D)                     (None, 8, 8, 512)     2359296     E2lod[0][0]                      \n",
      "____________________________________________________________________________________________________\n",
      "E2bws (WScaleLayer)              (None, 8, 8, 512)     1.0         E2b[0][0]                        \n",
      "____________________________________________________________________________________________________\n",
      "add_bias_layer_8 (AddBiasLayer)  (None, 8, 8, 512)     512         E2bws[0][0]                      \n",
      "____________________________________________________________________________________________________\n",
      "activation_8 (Activation)        (None, 8, 8, 512)     0           add_bias_layer_8[0][0]           \n",
      "____________________________________________________________________________________________________\n",
      "E2bBN (BatchNormalization)       (None, 8, 8, 512)     2048        activation_8[0][0]               \n",
      "____________________________________________________________________________________________________\n",
      "E2a (Conv2D)                     (None, 8, 8, 512)     2359296     E2bBN[0][0]                      \n",
      "____________________________________________________________________________________________________\n",
      "E2aws (WScaleLayer)              (None, 8, 8, 512)     1.0         E2a[0][0]                        \n",
      "____________________________________________________________________________________________________\n",
      "E1xs (AveragePooling2D)          (None, 4, 4, 3)       0           Eimages[0][0]                    \n",
      "____________________________________________________________________________________________________\n",
      "add_bias_layer_9 (AddBiasLayer)  (None, 8, 8, 512)     512         E2aws[0][0]                      \n",
      "____________________________________________________________________________________________________\n",
      "E1xNIN (Conv2D)                  (None, 4, 4, 512)     1536        E1xs[0][0]                       \n",
      "____________________________________________________________________________________________________\n",
      "activation_9 (Activation)        (None, 8, 8, 512)     0           add_bias_layer_9[0][0]           \n",
      "____________________________________________________________________________________________________\n",
      "E1xNINWS (WScaleLayer)           (None, 4, 4, 512)     1.0         E1xNIN[0][0]                     \n",
      "____________________________________________________________________________________________________\n",
      "E2aBN (BatchNormalization)       (None, 8, 8, 512)     2048        activation_9[0][0]               \n",
      "____________________________________________________________________________________________________\n",
      "add_bias_layer_10 (AddBiasLayer) (None, 4, 4, 512)     512         E1xNINWS[0][0]                   \n",
      "____________________________________________________________________________________________________\n",
      "E2dn (AveragePooling2D)          (None, 4, 4, 512)     0           E2aBN[0][0]                      \n",
      "____________________________________________________________________________________________________\n",
      "activation_10 (Activation)       (None, 4, 4, 512)     0           add_bias_layer_10[0][0]          \n",
      "____________________________________________________________________________________________________\n",
      "E1lod (LODSelectLayer)           (None, 4, 4, 512)     0           E2dn[0][0]                       \n",
      "                                                                   activation_10[0][0]              \n",
      "____________________________________________________________________________________________________\n",
      "E1b (Conv2D)                     (None, 4, 4, 512)     2359296     E1lod[0][0]                      \n",
      "____________________________________________________________________________________________________\n",
      "E1bws (WScaleLayer)              (None, 4, 4, 512)     1.0         E1b[0][0]                        \n",
      "____________________________________________________________________________________________________\n",
      "add_bias_layer_11 (AddBiasLayer) (None, 4, 4, 512)     512         E1bws[0][0]                      \n",
      "____________________________________________________________________________________________________\n",
      "activation_11 (Activation)       (None, 4, 4, 512)     0           add_bias_layer_11[0][0]          \n",
      "____________________________________________________________________________________________________\n",
      "E1bBN (BatchNormalization)       (None, 4, 4, 512)     2048        activation_11[0][0]              \n",
      "____________________________________________________________________________________________________\n",
      "E1a (Conv2D)                     (None, 4, 4, 512)     4194304     E1bBN[0][0]                      \n",
      "____________________________________________________________________________________________________\n",
      "E1aws (WScaleLayer)              (None, 4, 4, 512)     1.0         E1a[0][0]                        \n",
      "____________________________________________________________________________________________________\n",
      "add_bias_layer_12 (AddBiasLayer) (None, 4, 4, 512)     512         E1aws[0][0]                      \n",
      "____________________________________________________________________________________________________\n",
      "activation_12 (Activation)       (None, 4, 4, 512)     0           add_bias_layer_12[0][0]          \n",
      "____________________________________________________________________________________________________\n",
      "E1aBN (BatchNormalization)       (None, 4, 4, 512)     2048        activation_12[0][0]              \n",
      "____________________________________________________________________________________________________\n",
      "G1a (Conv2D)                     (None, 4, 4, 512)     2359296     E1aBN[0][0]                      \n",
      "____________________________________________________________________________________________________\n",
      "G1aWS (WScaleLayer)              (None, 4, 4, 512)     1.0         G1a[0][0]                        \n",
      "____________________________________________________________________________________________________\n",
      "add_bias_layer_13 (AddBiasLayer) (None, 4, 4, 512)     512         G1aWS[0][0]                      \n",
      "____________________________________________________________________________________________________\n",
      "activation_13 (Activation)       (None, 4, 4, 512)     0           add_bias_layer_13[0][0]          \n",
      "____________________________________________________________________________________________________\n",
      "G1aBN (BatchNormalization)       (None, 4, 4, 512)     2048        activation_13[0][0]              \n",
      "____________________________________________________________________________________________________\n",
      "G1aPN (PixelNormLayer)           (None, 4, 4, 512)     0           G1aBN[0][0]                      \n",
      "____________________________________________________________________________________________________\n",
      "G2up (UpSampling2D)              (None, 8, 8, 512)     0           G1aPN[0][0]                      \n",
      "____________________________________________________________________________________________________\n",
      "concatenate_1 (Concatenate)      (None, 8, 8, 512)     0           G2up[0][0]                       \n",
      "                                                                   E2aBN[0][0]                      \n",
      "____________________________________________________________________________________________________\n",
      "G2a (Conv2D)                     (None, 8, 8, 512)     2359296     concatenate_1[0][0]              \n",
      "____________________________________________________________________________________________________\n",
      "G2aWS (WScaleLayer)              (None, 8, 8, 512)     1.0         G2a[0][0]                        \n",
      "____________________________________________________________________________________________________\n",
      "add_bias_layer_14 (AddBiasLayer) (None, 8, 8, 512)     512         G2aWS[0][0]                      \n",
      "____________________________________________________________________________________________________\n",
      "activation_14 (Activation)       (None, 8, 8, 512)     0           add_bias_layer_14[0][0]          \n"
     ]
    },
    {
     "name": "stdout",
     "output_type": "stream",
     "text": [
      "____________________________________________________________________________________________________\n",
      "G2aBN (BatchNormalization)       (None, 8, 8, 512)     2048        activation_14[0][0]              \n",
      "____________________________________________________________________________________________________\n",
      "G2aPN (PixelNormLayer)           (None, 8, 8, 512)     0           G2aBN[0][0]                      \n",
      "____________________________________________________________________________________________________\n",
      "G2b (Conv2D)                     (None, 8, 8, 512)     2359296     G2aPN[0][0]                      \n",
      "____________________________________________________________________________________________________\n",
      "G2bWS (WScaleLayer)              (None, 8, 8, 512)     1.0         G2b[0][0]                        \n",
      "____________________________________________________________________________________________________\n",
      "add_bias_layer_15 (AddBiasLayer) (None, 8, 8, 512)     512         G2bWS[0][0]                      \n",
      "____________________________________________________________________________________________________\n",
      "activation_15 (Activation)       (None, 8, 8, 512)     0           add_bias_layer_15[0][0]          \n",
      "____________________________________________________________________________________________________\n",
      "G2bBN (BatchNormalization)       (None, 8, 8, 512)     2048        activation_15[0][0]              \n",
      "____________________________________________________________________________________________________\n",
      "G2bPN (PixelNormLayer)           (None, 8, 8, 512)     0           G2bBN[0][0]                      \n",
      "____________________________________________________________________________________________________\n",
      "G3up (UpSampling2D)              (None, 16, 16, 512)   0           G2bPN[0][0]                      \n",
      "____________________________________________________________________________________________________\n",
      "concatenate_2 (Concatenate)      (None, 16, 16, 512)   0           G3up[0][0]                       \n",
      "                                                                   E3aBN[0][0]                      \n",
      "____________________________________________________________________________________________________\n",
      "G3a (Conv2D)                     (None, 16, 16, 256)   1179648     concatenate_2[0][0]              \n",
      "____________________________________________________________________________________________________\n",
      "G3aWS (WScaleLayer)              (None, 16, 16, 256)   1.0         G3a[0][0]                        \n",
      "____________________________________________________________________________________________________\n",
      "add_bias_layer_16 (AddBiasLayer) (None, 16, 16, 256)   256         G3aWS[0][0]                      \n",
      "____________________________________________________________________________________________________\n",
      "activation_16 (Activation)       (None, 16, 16, 256)   0           add_bias_layer_16[0][0]          \n",
      "____________________________________________________________________________________________________\n",
      "G3aBN (BatchNormalization)       (None, 16, 16, 256)   1024        activation_16[0][0]              \n",
      "____________________________________________________________________________________________________\n",
      "G3aPN (PixelNormLayer)           (None, 16, 16, 256)   0           G3aBN[0][0]                      \n",
      "____________________________________________________________________________________________________\n",
      "G3b (Conv2D)                     (None, 16, 16, 256)   589824      G3aPN[0][0]                      \n",
      "____________________________________________________________________________________________________\n",
      "G3bWS (WScaleLayer)              (None, 16, 16, 256)   1.0         G3b[0][0]                        \n",
      "____________________________________________________________________________________________________\n",
      "add_bias_layer_17 (AddBiasLayer) (None, 16, 16, 256)   256         G3bWS[0][0]                      \n",
      "____________________________________________________________________________________________________\n",
      "activation_17 (Activation)       (None, 16, 16, 256)   0           add_bias_layer_17[0][0]          \n",
      "____________________________________________________________________________________________________\n",
      "G3bBN (BatchNormalization)       (None, 16, 16, 256)   1024        activation_17[0][0]              \n",
      "____________________________________________________________________________________________________\n",
      "G3bPN (PixelNormLayer)           (None, 16, 16, 256)   0           G3bBN[0][0]                      \n",
      "____________________________________________________________________________________________________\n",
      "G4up (UpSampling2D)              (None, 32, 32, 256)   0           G3bPN[0][0]                      \n",
      "____________________________________________________________________________________________________\n",
      "concatenate_3 (Concatenate)      (None, 32, 32, 256)   0           G4up[0][0]                       \n",
      "                                                                   E4aBN[0][0]                      \n",
      "____________________________________________________________________________________________________\n",
      "G4a (Conv2D)                     (None, 32, 32, 128)   294912      concatenate_3[0][0]              \n",
      "____________________________________________________________________________________________________\n",
      "G4aWS (WScaleLayer)              (None, 32, 32, 128)   1.0         G4a[0][0]                        \n",
      "____________________________________________________________________________________________________\n",
      "add_bias_layer_18 (AddBiasLayer) (None, 32, 32, 128)   128         G4aWS[0][0]                      \n",
      "____________________________________________________________________________________________________\n",
      "activation_18 (Activation)       (None, 32, 32, 128)   0           add_bias_layer_18[0][0]          \n",
      "____________________________________________________________________________________________________\n",
      "G4aBN (BatchNormalization)       (None, 32, 32, 128)   512         activation_18[0][0]              \n",
      "____________________________________________________________________________________________________\n",
      "G4aPN (PixelNormLayer)           (None, 32, 32, 128)   0           G4aBN[0][0]                      \n",
      "____________________________________________________________________________________________________\n",
      "G4b (Conv2D)                     (None, 32, 32, 128)   147456      G4aPN[0][0]                      \n",
      "____________________________________________________________________________________________________\n",
      "G4bWS (WScaleLayer)              (None, 32, 32, 128)   1.0         G4b[0][0]                        \n",
      "____________________________________________________________________________________________________\n",
      "add_bias_layer_19 (AddBiasLayer) (None, 32, 32, 128)   128         G4bWS[0][0]                      \n",
      "____________________________________________________________________________________________________\n",
      "activation_19 (Activation)       (None, 32, 32, 128)   0           add_bias_layer_19[0][0]          \n",
      "____________________________________________________________________________________________________\n",
      "G4bBN (BatchNormalization)       (None, 32, 32, 128)   512         activation_19[0][0]              \n",
      "____________________________________________________________________________________________________\n",
      "G4bPN (PixelNormLayer)           (None, 32, 32, 128)   0           G4bBN[0][0]                      \n",
      "____________________________________________________________________________________________________\n",
      "Glod0NIN (Conv2D)                (None, 32, 32, 3)     384         G4bPN[0][0]                      \n",
      "____________________________________________________________________________________________________\n",
      "Glod1NIN (Conv2D)                (None, 16, 16, 3)     768         G3bPN[0][0]                      \n",
      "____________________________________________________________________________________________________\n",
      "Glod2NIN (Conv2D)                (None, 8, 8, 3)       1536        G2bPN[0][0]                      \n",
      "____________________________________________________________________________________________________\n"
     ]
    },
    {
     "name": "stdout",
     "output_type": "stream",
     "text": [
      "Glod3NIN (Conv2D)                (None, 4, 4, 3)       1536        G1aPN[0][0]                      \n",
      "____________________________________________________________________________________________________\n",
      "Glod0NINWS (WScaleLayer)         (None, 32, 32, 3)     1.0         Glod0NIN[0][0]                   \n",
      "____________________________________________________________________________________________________\n",
      "Glod1NINWS (WScaleLayer)         (None, 16, 16, 3)     1.0         Glod1NIN[0][0]                   \n",
      "____________________________________________________________________________________________________\n",
      "Glod2NINWS (WScaleLayer)         (None, 8, 8, 3)       1.0         Glod2NIN[0][0]                   \n",
      "____________________________________________________________________________________________________\n",
      "Glod3NINWS (WScaleLayer)         (None, 4, 4, 3)       1.0         Glod3NIN[0][0]                   \n",
      "____________________________________________________________________________________________________\n",
      "add_bias_layer_20 (AddBiasLayer) (None, 32, 32, 3)     3           Glod0NINWS[0][0]                 \n",
      "____________________________________________________________________________________________________\n",
      "add_bias_layer_21 (AddBiasLayer) (None, 16, 16, 3)     3           Glod1NINWS[0][0]                 \n",
      "____________________________________________________________________________________________________\n",
      "add_bias_layer_22 (AddBiasLayer) (None, 8, 8, 3)       3           Glod2NINWS[0][0]                 \n",
      "____________________________________________________________________________________________________\n",
      "add_bias_layer_23 (AddBiasLayer) (None, 4, 4, 3)       3           Glod3NINWS[0][0]                 \n",
      "____________________________________________________________________________________________________\n",
      "activation_20 (Activation)       (None, 32, 32, 3)     0           add_bias_layer_20[0][0]          \n",
      "____________________________________________________________________________________________________\n",
      "activation_21 (Activation)       (None, 16, 16, 3)     0           add_bias_layer_21[0][0]          \n",
      "____________________________________________________________________________________________________\n",
      "activation_22 (Activation)       (None, 8, 8, 3)       0           add_bias_layer_22[0][0]          \n",
      "____________________________________________________________________________________________________\n",
      "activation_23 (Activation)       (None, 4, 4, 3)       0           add_bias_layer_23[0][0]          \n",
      "____________________________________________________________________________________________________\n",
      "Glod (LODSelectLayer)            (None, 32, 32, 3)     0           activation_20[0][0]              \n",
      "                                                                   activation_21[0][0]              \n",
      "                                                                   activation_22[0][0]              \n",
      "                                                                   activation_23[0][0]              \n",
      "====================================================================================================\n",
      "Total params: 22,811,171\n",
      "Trainable params: 22,800,140\n",
      "Non-trainable params: 11,031\n",
      "____________________________________________________________________________________________________\n"
     ]
    }
   ],
   "source": [
    "E_G.summary()"
   ]
  },
  {
   "cell_type": "code",
   "execution_count": 8,
   "metadata": {},
   "outputs": [
    {
     "ename": "InvalidArgumentError",
     "evalue": "Incompatible shapes: [8,32,32,3] vs. [4,32,32,3]\n\t [[Node: Glod/add = Add[T=DT_FLOAT, _device=\"/job:localhost/replica:0/task:0/device:GPU:0\"](Glod/mul, Glod/mul_1)]]\n\t [[Node: Glod/cond_3/Merge/_261 = _Recv[client_terminated=false, recv_device=\"/job:localhost/replica:0/task:0/device:CPU:0\", send_device=\"/job:localhost/replica:0/task:0/device:GPU:0\", send_device_incarnation=1, tensor_name=\"edge_1758_Glod/cond_3/Merge\", tensor_type=DT_FLOAT, _device=\"/job:localhost/replica:0/task:0/device:CPU:0\"]()]]\n\nCaused by op 'Glod/add', defined at:\n  File \"C:\\Users\\Paul\\Anaconda3\\lib\\runpy.py\", line 193, in _run_module_as_main\n    \"__main__\", mod_spec)\n  File \"C:\\Users\\Paul\\Anaconda3\\lib\\runpy.py\", line 85, in _run_code\n    exec(code, run_globals)\n  File \"C:\\Users\\Paul\\Anaconda3\\lib\\site-packages\\ipykernel_launcher.py\", line 16, in <module>\n    app.launch_new_instance()\n  File \"C:\\Users\\Paul\\Anaconda3\\lib\\site-packages\\traitlets\\config\\application.py\", line 658, in launch_instance\n    app.start()\n  File \"C:\\Users\\Paul\\Anaconda3\\lib\\site-packages\\ipykernel\\kernelapp.py\", line 497, in start\n    self.io_loop.start()\n  File \"C:\\Users\\Paul\\Anaconda3\\lib\\site-packages\\tornado\\platform\\asyncio.py\", line 132, in start\n    self.asyncio_loop.run_forever()\n  File \"C:\\Users\\Paul\\Anaconda3\\lib\\asyncio\\base_events.py\", line 422, in run_forever\n    self._run_once()\n  File \"C:\\Users\\Paul\\Anaconda3\\lib\\asyncio\\base_events.py\", line 1434, in _run_once\n    handle._run()\n  File \"C:\\Users\\Paul\\Anaconda3\\lib\\asyncio\\events.py\", line 145, in _run\n    self._callback(*self._args)\n  File \"C:\\Users\\Paul\\Anaconda3\\lib\\site-packages\\tornado\\platform\\asyncio.py\", line 122, in _handle_events\n    handler_func(fileobj, events)\n  File \"C:\\Users\\Paul\\Anaconda3\\lib\\site-packages\\tornado\\stack_context.py\", line 300, in null_wrapper\n    return fn(*args, **kwargs)\n  File \"C:\\Users\\Paul\\Anaconda3\\lib\\site-packages\\zmq\\eventloop\\zmqstream.py\", line 450, in _handle_events\n    self._handle_recv()\n  File \"C:\\Users\\Paul\\Anaconda3\\lib\\site-packages\\zmq\\eventloop\\zmqstream.py\", line 480, in _handle_recv\n    self._run_callback(callback, msg)\n  File \"C:\\Users\\Paul\\Anaconda3\\lib\\site-packages\\zmq\\eventloop\\zmqstream.py\", line 432, in _run_callback\n    callback(*args, **kwargs)\n  File \"C:\\Users\\Paul\\Anaconda3\\lib\\site-packages\\tornado\\stack_context.py\", line 300, in null_wrapper\n    return fn(*args, **kwargs)\n  File \"C:\\Users\\Paul\\Anaconda3\\lib\\site-packages\\ipykernel\\kernelbase.py\", line 283, in dispatcher\n    return self.dispatch_shell(stream, msg)\n  File \"C:\\Users\\Paul\\Anaconda3\\lib\\site-packages\\ipykernel\\kernelbase.py\", line 233, in dispatch_shell\n    handler(stream, idents, msg)\n  File \"C:\\Users\\Paul\\Anaconda3\\lib\\site-packages\\ipykernel\\kernelbase.py\", line 399, in execute_request\n    user_expressions, allow_stdin)\n  File \"C:\\Users\\Paul\\Anaconda3\\lib\\site-packages\\ipykernel\\ipkernel.py\", line 208, in do_execute\n    res = shell.run_cell(code, store_history=store_history, silent=silent)\n  File \"C:\\Users\\Paul\\Anaconda3\\lib\\site-packages\\ipykernel\\zmqshell.py\", line 537, in run_cell\n    return super(ZMQInteractiveShell, self).run_cell(*args, **kwargs)\n  File \"C:\\Users\\Paul\\Anaconda3\\lib\\site-packages\\IPython\\core\\interactiveshell.py\", line 2662, in run_cell\n    raw_cell, store_history, silent, shell_futures)\n  File \"C:\\Users\\Paul\\Anaconda3\\lib\\site-packages\\IPython\\core\\interactiveshell.py\", line 2785, in _run_cell\n    interactivity=interactivity, compiler=compiler, result=result)\n  File \"C:\\Users\\Paul\\Anaconda3\\lib\\site-packages\\IPython\\core\\interactiveshell.py\", line 2901, in run_ast_nodes\n    if self.run_code(code, result):\n  File \"C:\\Users\\Paul\\Anaconda3\\lib\\site-packages\\IPython\\core\\interactiveshell.py\", line 2961, in run_code\n    exec(code_obj, self.user_global_ns, self.user_ns)\n  File \"<ipython-input-3-79f0e9eac7d7>\", line 1, in <module>\n    E_G = Encoder_Generator(num_channels=3, resolution=32, **config.G)\n  File \"C:\\Users\\Paul\\Documents\\Keras-progressive_growing_of_gans\\Progressive growing of GANs\\model.py\", line 205, in Encoder_Generator\n    output = LODSelectLayer(cur_lod, name='Glod')(lods)\n  File \"C:\\Users\\Paul\\Anaconda3\\lib\\site-packages\\keras\\engine\\topology.py\", line 602, in __call__\n    output = self.call(inputs, **kwargs)\n  File \"C:\\Users\\Paul\\Documents\\Keras-progressive_growing_of_gans\\Progressive growing of GANs\\layers.py\", line 70, in call\n    r = K.switch(K.less(t, i+1), v[i] * ((i+1)-t) + v[i+1] * (t-i), r)\n  File \"C:\\Users\\Paul\\Anaconda3\\lib\\site-packages\\tensorflow\\python\\ops\\math_ops.py\", line 934, in binary_op_wrapper\n    return func(x, y, name=name)\n  File \"C:\\Users\\Paul\\Anaconda3\\lib\\site-packages\\tensorflow\\python\\ops\\gen_math_ops.py\", line 192, in add\n    \"Add\", x=x, y=y, name=name)\n  File \"C:\\Users\\Paul\\Anaconda3\\lib\\site-packages\\tensorflow\\python\\framework\\op_def_library.py\", line 787, in _apply_op_helper\n    op_def=op_def)\n  File \"C:\\Users\\Paul\\Anaconda3\\lib\\site-packages\\tensorflow\\python\\framework\\ops.py\", line 3271, in create_op\n    op_def=op_def)\n  File \"C:\\Users\\Paul\\Anaconda3\\lib\\site-packages\\tensorflow\\python\\framework\\ops.py\", line 1650, in __init__\n    self._traceback = self._graph._extract_stack()  # pylint: disable=protected-access\n\nInvalidArgumentError (see above for traceback): Incompatible shapes: [8,32,32,3] vs. [4,32,32,3]\n\t [[Node: Glod/add = Add[T=DT_FLOAT, _device=\"/job:localhost/replica:0/task:0/device:GPU:0\"](Glod/mul, Glod/mul_1)]]\n\t [[Node: Glod/cond_3/Merge/_261 = _Recv[client_terminated=false, recv_device=\"/job:localhost/replica:0/task:0/device:CPU:0\", send_device=\"/job:localhost/replica:0/task:0/device:GPU:0\", send_device_incarnation=1, tensor_name=\"edge_1758_Glod/cond_3/Merge\", tensor_type=DT_FLOAT, _device=\"/job:localhost/replica:0/task:0/device:CPU:0\"]()]]\n",
     "output_type": "error",
     "traceback": [
      "\u001b[1;31m---------------------------------------------------------------------------\u001b[0m",
      "\u001b[1;31mInvalidArgumentError\u001b[0m                      Traceback (most recent call last)",
      "\u001b[1;32m~\\Anaconda3\\lib\\site-packages\\tensorflow\\python\\client\\session.py\u001b[0m in \u001b[0;36m_do_call\u001b[1;34m(self, fn, *args)\u001b[0m\n\u001b[0;32m   1360\u001b[0m     \u001b[1;32mtry\u001b[0m\u001b[1;33m:\u001b[0m\u001b[1;33m\u001b[0m\u001b[0m\n\u001b[1;32m-> 1361\u001b[1;33m       \u001b[1;32mreturn\u001b[0m \u001b[0mfn\u001b[0m\u001b[1;33m(\u001b[0m\u001b[1;33m*\u001b[0m\u001b[0margs\u001b[0m\u001b[1;33m)\u001b[0m\u001b[1;33m\u001b[0m\u001b[0m\n\u001b[0m\u001b[0;32m   1362\u001b[0m     \u001b[1;32mexcept\u001b[0m \u001b[0merrors\u001b[0m\u001b[1;33m.\u001b[0m\u001b[0mOpError\u001b[0m \u001b[1;32mas\u001b[0m \u001b[0me\u001b[0m\u001b[1;33m:\u001b[0m\u001b[1;33m\u001b[0m\u001b[0m\n",
      "\u001b[1;32m~\\Anaconda3\\lib\\site-packages\\tensorflow\\python\\client\\session.py\u001b[0m in \u001b[0;36m_run_fn\u001b[1;34m(session, feed_dict, fetch_list, target_list, options, run_metadata)\u001b[0m\n\u001b[0;32m   1339\u001b[0m           return tf_session.TF_Run(session, options, feed_dict, fetch_list,\n\u001b[1;32m-> 1340\u001b[1;33m                                    target_list, status, run_metadata)\n\u001b[0m\u001b[0;32m   1341\u001b[0m \u001b[1;33m\u001b[0m\u001b[0m\n",
      "\u001b[1;32m~\\Anaconda3\\lib\\site-packages\\tensorflow\\python\\framework\\errors_impl.py\u001b[0m in \u001b[0;36m__exit__\u001b[1;34m(self, type_arg, value_arg, traceback_arg)\u001b[0m\n\u001b[0;32m    515\u001b[0m             \u001b[0mcompat\u001b[0m\u001b[1;33m.\u001b[0m\u001b[0mas_text\u001b[0m\u001b[1;33m(\u001b[0m\u001b[0mc_api\u001b[0m\u001b[1;33m.\u001b[0m\u001b[0mTF_Message\u001b[0m\u001b[1;33m(\u001b[0m\u001b[0mself\u001b[0m\u001b[1;33m.\u001b[0m\u001b[0mstatus\u001b[0m\u001b[1;33m.\u001b[0m\u001b[0mstatus\u001b[0m\u001b[1;33m)\u001b[0m\u001b[1;33m)\u001b[0m\u001b[1;33m,\u001b[0m\u001b[1;33m\u001b[0m\u001b[0m\n\u001b[1;32m--> 516\u001b[1;33m             c_api.TF_GetCode(self.status.status))\n\u001b[0m\u001b[0;32m    517\u001b[0m     \u001b[1;31m# Delete the underlying status object from memory otherwise it stays alive\u001b[0m\u001b[1;33m\u001b[0m\u001b[1;33m\u001b[0m\u001b[0m\n",
      "\u001b[1;31mInvalidArgumentError\u001b[0m: Incompatible shapes: [8,32,32,3] vs. [4,32,32,3]\n\t [[Node: Glod/add = Add[T=DT_FLOAT, _device=\"/job:localhost/replica:0/task:0/device:GPU:0\"](Glod/mul, Glod/mul_1)]]\n\t [[Node: Glod/cond_3/Merge/_261 = _Recv[client_terminated=false, recv_device=\"/job:localhost/replica:0/task:0/device:CPU:0\", send_device=\"/job:localhost/replica:0/task:0/device:GPU:0\", send_device_incarnation=1, tensor_name=\"edge_1758_Glod/cond_3/Merge\", tensor_type=DT_FLOAT, _device=\"/job:localhost/replica:0/task:0/device:CPU:0\"]()]]",
      "\nDuring handling of the above exception, another exception occurred:\n",
      "\u001b[1;31mInvalidArgumentError\u001b[0m                      Traceback (most recent call last)",
      "\u001b[1;32m<ipython-input-8-45892d83fa4f>\u001b[0m in \u001b[0;36m<module>\u001b[1;34m()\u001b[0m\n\u001b[1;32m----> 1\u001b[1;33m \u001b[0mE_G\u001b[0m\u001b[1;33m.\u001b[0m\u001b[0mpredict\u001b[0m\u001b[1;33m(\u001b[0m\u001b[0mreal_1\u001b[0m\u001b[1;33m)\u001b[0m\u001b[1;33m\u001b[0m\u001b[0m\n\u001b[0m",
      "\u001b[1;32m~\\Anaconda3\\lib\\site-packages\\keras\\engine\\training.py\u001b[0m in \u001b[0;36mpredict\u001b[1;34m(self, x, batch_size, verbose, steps)\u001b[0m\n\u001b[0;32m   1711\u001b[0m         \u001b[0mf\u001b[0m \u001b[1;33m=\u001b[0m \u001b[0mself\u001b[0m\u001b[1;33m.\u001b[0m\u001b[0mpredict_function\u001b[0m\u001b[1;33m\u001b[0m\u001b[0m\n\u001b[0;32m   1712\u001b[0m         return self._predict_loop(f, ins, batch_size=batch_size,\n\u001b[1;32m-> 1713\u001b[1;33m                                   verbose=verbose, steps=steps)\n\u001b[0m\u001b[0;32m   1714\u001b[0m \u001b[1;33m\u001b[0m\u001b[0m\n\u001b[0;32m   1715\u001b[0m     def train_on_batch(self, x, y,\n",
      "\u001b[1;32m~\\Anaconda3\\lib\\site-packages\\keras\\engine\\training.py\u001b[0m in \u001b[0;36m_predict_loop\u001b[1;34m(self, f, ins, batch_size, verbose, steps)\u001b[0m\n\u001b[0;32m   1267\u001b[0m                 \u001b[1;32melse\u001b[0m\u001b[1;33m:\u001b[0m\u001b[1;33m\u001b[0m\u001b[0m\n\u001b[0;32m   1268\u001b[0m                     \u001b[0mins_batch\u001b[0m \u001b[1;33m=\u001b[0m \u001b[0m_slice_arrays\u001b[0m\u001b[1;33m(\u001b[0m\u001b[0mins\u001b[0m\u001b[1;33m,\u001b[0m \u001b[0mbatch_ids\u001b[0m\u001b[1;33m)\u001b[0m\u001b[1;33m\u001b[0m\u001b[0m\n\u001b[1;32m-> 1269\u001b[1;33m                 \u001b[0mbatch_outs\u001b[0m \u001b[1;33m=\u001b[0m \u001b[0mf\u001b[0m\u001b[1;33m(\u001b[0m\u001b[0mins_batch\u001b[0m\u001b[1;33m)\u001b[0m\u001b[1;33m\u001b[0m\u001b[0m\n\u001b[0m\u001b[0;32m   1270\u001b[0m                 \u001b[1;32mif\u001b[0m \u001b[1;32mnot\u001b[0m \u001b[0misinstance\u001b[0m\u001b[1;33m(\u001b[0m\u001b[0mbatch_outs\u001b[0m\u001b[1;33m,\u001b[0m \u001b[0mlist\u001b[0m\u001b[1;33m)\u001b[0m\u001b[1;33m:\u001b[0m\u001b[1;33m\u001b[0m\u001b[0m\n\u001b[0;32m   1271\u001b[0m                     \u001b[0mbatch_outs\u001b[0m \u001b[1;33m=\u001b[0m \u001b[1;33m[\u001b[0m\u001b[0mbatch_outs\u001b[0m\u001b[1;33m]\u001b[0m\u001b[1;33m\u001b[0m\u001b[0m\n",
      "\u001b[1;32m~\\Anaconda3\\lib\\site-packages\\keras\\backend\\tensorflow_backend.py\u001b[0m in \u001b[0;36m__call__\u001b[1;34m(self, inputs)\u001b[0m\n\u001b[0;32m   2271\u001b[0m         updated = session.run(self.outputs + [self.updates_op],\n\u001b[0;32m   2272\u001b[0m                               \u001b[0mfeed_dict\u001b[0m\u001b[1;33m=\u001b[0m\u001b[0mfeed_dict\u001b[0m\u001b[1;33m,\u001b[0m\u001b[1;33m\u001b[0m\u001b[0m\n\u001b[1;32m-> 2273\u001b[1;33m                               **self.session_kwargs)\n\u001b[0m\u001b[0;32m   2274\u001b[0m         \u001b[1;32mreturn\u001b[0m \u001b[0mupdated\u001b[0m\u001b[1;33m[\u001b[0m\u001b[1;33m:\u001b[0m\u001b[0mlen\u001b[0m\u001b[1;33m(\u001b[0m\u001b[0mself\u001b[0m\u001b[1;33m.\u001b[0m\u001b[0moutputs\u001b[0m\u001b[1;33m)\u001b[0m\u001b[1;33m]\u001b[0m\u001b[1;33m\u001b[0m\u001b[0m\n\u001b[0;32m   2275\u001b[0m \u001b[1;33m\u001b[0m\u001b[0m\n",
      "\u001b[1;32m~\\Anaconda3\\lib\\site-packages\\tensorflow\\python\\client\\session.py\u001b[0m in \u001b[0;36mrun\u001b[1;34m(self, fetches, feed_dict, options, run_metadata)\u001b[0m\n\u001b[0;32m    903\u001b[0m     \u001b[1;32mtry\u001b[0m\u001b[1;33m:\u001b[0m\u001b[1;33m\u001b[0m\u001b[0m\n\u001b[0;32m    904\u001b[0m       result = self._run(None, fetches, feed_dict, options_ptr,\n\u001b[1;32m--> 905\u001b[1;33m                          run_metadata_ptr)\n\u001b[0m\u001b[0;32m    906\u001b[0m       \u001b[1;32mif\u001b[0m \u001b[0mrun_metadata\u001b[0m\u001b[1;33m:\u001b[0m\u001b[1;33m\u001b[0m\u001b[0m\n\u001b[0;32m    907\u001b[0m         \u001b[0mproto_data\u001b[0m \u001b[1;33m=\u001b[0m \u001b[0mtf_session\u001b[0m\u001b[1;33m.\u001b[0m\u001b[0mTF_GetBuffer\u001b[0m\u001b[1;33m(\u001b[0m\u001b[0mrun_metadata_ptr\u001b[0m\u001b[1;33m)\u001b[0m\u001b[1;33m\u001b[0m\u001b[0m\n",
      "\u001b[1;32m~\\Anaconda3\\lib\\site-packages\\tensorflow\\python\\client\\session.py\u001b[0m in \u001b[0;36m_run\u001b[1;34m(self, handle, fetches, feed_dict, options, run_metadata)\u001b[0m\n\u001b[0;32m   1135\u001b[0m     \u001b[1;32mif\u001b[0m \u001b[0mfinal_fetches\u001b[0m \u001b[1;32mor\u001b[0m \u001b[0mfinal_targets\u001b[0m \u001b[1;32mor\u001b[0m \u001b[1;33m(\u001b[0m\u001b[0mhandle\u001b[0m \u001b[1;32mand\u001b[0m \u001b[0mfeed_dict_tensor\u001b[0m\u001b[1;33m)\u001b[0m\u001b[1;33m:\u001b[0m\u001b[1;33m\u001b[0m\u001b[0m\n\u001b[0;32m   1136\u001b[0m       results = self._do_run(handle, final_targets, final_fetches,\n\u001b[1;32m-> 1137\u001b[1;33m                              feed_dict_tensor, options, run_metadata)\n\u001b[0m\u001b[0;32m   1138\u001b[0m     \u001b[1;32melse\u001b[0m\u001b[1;33m:\u001b[0m\u001b[1;33m\u001b[0m\u001b[0m\n\u001b[0;32m   1139\u001b[0m       \u001b[0mresults\u001b[0m \u001b[1;33m=\u001b[0m \u001b[1;33m[\u001b[0m\u001b[1;33m]\u001b[0m\u001b[1;33m\u001b[0m\u001b[0m\n",
      "\u001b[1;32m~\\Anaconda3\\lib\\site-packages\\tensorflow\\python\\client\\session.py\u001b[0m in \u001b[0;36m_do_run\u001b[1;34m(self, handle, target_list, fetch_list, feed_dict, options, run_metadata)\u001b[0m\n\u001b[0;32m   1353\u001b[0m     \u001b[1;32mif\u001b[0m \u001b[0mhandle\u001b[0m \u001b[1;32mis\u001b[0m \u001b[1;32mNone\u001b[0m\u001b[1;33m:\u001b[0m\u001b[1;33m\u001b[0m\u001b[0m\n\u001b[0;32m   1354\u001b[0m       return self._do_call(_run_fn, self._session, feeds, fetches, targets,\n\u001b[1;32m-> 1355\u001b[1;33m                            options, run_metadata)\n\u001b[0m\u001b[0;32m   1356\u001b[0m     \u001b[1;32melse\u001b[0m\u001b[1;33m:\u001b[0m\u001b[1;33m\u001b[0m\u001b[0m\n\u001b[0;32m   1357\u001b[0m       \u001b[1;32mreturn\u001b[0m \u001b[0mself\u001b[0m\u001b[1;33m.\u001b[0m\u001b[0m_do_call\u001b[0m\u001b[1;33m(\u001b[0m\u001b[0m_prun_fn\u001b[0m\u001b[1;33m,\u001b[0m \u001b[0mself\u001b[0m\u001b[1;33m.\u001b[0m\u001b[0m_session\u001b[0m\u001b[1;33m,\u001b[0m \u001b[0mhandle\u001b[0m\u001b[1;33m,\u001b[0m \u001b[0mfeeds\u001b[0m\u001b[1;33m,\u001b[0m \u001b[0mfetches\u001b[0m\u001b[1;33m)\u001b[0m\u001b[1;33m\u001b[0m\u001b[0m\n",
      "\u001b[1;32m~\\Anaconda3\\lib\\site-packages\\tensorflow\\python\\client\\session.py\u001b[0m in \u001b[0;36m_do_call\u001b[1;34m(self, fn, *args)\u001b[0m\n\u001b[0;32m   1372\u001b[0m         \u001b[1;32mexcept\u001b[0m \u001b[0mKeyError\u001b[0m\u001b[1;33m:\u001b[0m\u001b[1;33m\u001b[0m\u001b[0m\n\u001b[0;32m   1373\u001b[0m           \u001b[1;32mpass\u001b[0m\u001b[1;33m\u001b[0m\u001b[0m\n\u001b[1;32m-> 1374\u001b[1;33m       \u001b[1;32mraise\u001b[0m \u001b[0mtype\u001b[0m\u001b[1;33m(\u001b[0m\u001b[0me\u001b[0m\u001b[1;33m)\u001b[0m\u001b[1;33m(\u001b[0m\u001b[0mnode_def\u001b[0m\u001b[1;33m,\u001b[0m \u001b[0mop\u001b[0m\u001b[1;33m,\u001b[0m \u001b[0mmessage\u001b[0m\u001b[1;33m)\u001b[0m\u001b[1;33m\u001b[0m\u001b[0m\n\u001b[0m\u001b[0;32m   1375\u001b[0m \u001b[1;33m\u001b[0m\u001b[0m\n\u001b[0;32m   1376\u001b[0m   \u001b[1;32mdef\u001b[0m \u001b[0m_extend_graph\u001b[0m\u001b[1;33m(\u001b[0m\u001b[0mself\u001b[0m\u001b[1;33m)\u001b[0m\u001b[1;33m:\u001b[0m\u001b[1;33m\u001b[0m\u001b[0m\n",
      "\u001b[1;31mInvalidArgumentError\u001b[0m: Incompatible shapes: [8,32,32,3] vs. [4,32,32,3]\n\t [[Node: Glod/add = Add[T=DT_FLOAT, _device=\"/job:localhost/replica:0/task:0/device:GPU:0\"](Glod/mul, Glod/mul_1)]]\n\t [[Node: Glod/cond_3/Merge/_261 = _Recv[client_terminated=false, recv_device=\"/job:localhost/replica:0/task:0/device:CPU:0\", send_device=\"/job:localhost/replica:0/task:0/device:GPU:0\", send_device_incarnation=1, tensor_name=\"edge_1758_Glod/cond_3/Merge\", tensor_type=DT_FLOAT, _device=\"/job:localhost/replica:0/task:0/device:CPU:0\"]()]]\n\nCaused by op 'Glod/add', defined at:\n  File \"C:\\Users\\Paul\\Anaconda3\\lib\\runpy.py\", line 193, in _run_module_as_main\n    \"__main__\", mod_spec)\n  File \"C:\\Users\\Paul\\Anaconda3\\lib\\runpy.py\", line 85, in _run_code\n    exec(code, run_globals)\n  File \"C:\\Users\\Paul\\Anaconda3\\lib\\site-packages\\ipykernel_launcher.py\", line 16, in <module>\n    app.launch_new_instance()\n  File \"C:\\Users\\Paul\\Anaconda3\\lib\\site-packages\\traitlets\\config\\application.py\", line 658, in launch_instance\n    app.start()\n  File \"C:\\Users\\Paul\\Anaconda3\\lib\\site-packages\\ipykernel\\kernelapp.py\", line 497, in start\n    self.io_loop.start()\n  File \"C:\\Users\\Paul\\Anaconda3\\lib\\site-packages\\tornado\\platform\\asyncio.py\", line 132, in start\n    self.asyncio_loop.run_forever()\n  File \"C:\\Users\\Paul\\Anaconda3\\lib\\asyncio\\base_events.py\", line 422, in run_forever\n    self._run_once()\n  File \"C:\\Users\\Paul\\Anaconda3\\lib\\asyncio\\base_events.py\", line 1434, in _run_once\n    handle._run()\n  File \"C:\\Users\\Paul\\Anaconda3\\lib\\asyncio\\events.py\", line 145, in _run\n    self._callback(*self._args)\n  File \"C:\\Users\\Paul\\Anaconda3\\lib\\site-packages\\tornado\\platform\\asyncio.py\", line 122, in _handle_events\n    handler_func(fileobj, events)\n  File \"C:\\Users\\Paul\\Anaconda3\\lib\\site-packages\\tornado\\stack_context.py\", line 300, in null_wrapper\n    return fn(*args, **kwargs)\n  File \"C:\\Users\\Paul\\Anaconda3\\lib\\site-packages\\zmq\\eventloop\\zmqstream.py\", line 450, in _handle_events\n    self._handle_recv()\n  File \"C:\\Users\\Paul\\Anaconda3\\lib\\site-packages\\zmq\\eventloop\\zmqstream.py\", line 480, in _handle_recv\n    self._run_callback(callback, msg)\n  File \"C:\\Users\\Paul\\Anaconda3\\lib\\site-packages\\zmq\\eventloop\\zmqstream.py\", line 432, in _run_callback\n    callback(*args, **kwargs)\n  File \"C:\\Users\\Paul\\Anaconda3\\lib\\site-packages\\tornado\\stack_context.py\", line 300, in null_wrapper\n    return fn(*args, **kwargs)\n  File \"C:\\Users\\Paul\\Anaconda3\\lib\\site-packages\\ipykernel\\kernelbase.py\", line 283, in dispatcher\n    return self.dispatch_shell(stream, msg)\n  File \"C:\\Users\\Paul\\Anaconda3\\lib\\site-packages\\ipykernel\\kernelbase.py\", line 233, in dispatch_shell\n    handler(stream, idents, msg)\n  File \"C:\\Users\\Paul\\Anaconda3\\lib\\site-packages\\ipykernel\\kernelbase.py\", line 399, in execute_request\n    user_expressions, allow_stdin)\n  File \"C:\\Users\\Paul\\Anaconda3\\lib\\site-packages\\ipykernel\\ipkernel.py\", line 208, in do_execute\n    res = shell.run_cell(code, store_history=store_history, silent=silent)\n  File \"C:\\Users\\Paul\\Anaconda3\\lib\\site-packages\\ipykernel\\zmqshell.py\", line 537, in run_cell\n    return super(ZMQInteractiveShell, self).run_cell(*args, **kwargs)\n  File \"C:\\Users\\Paul\\Anaconda3\\lib\\site-packages\\IPython\\core\\interactiveshell.py\", line 2662, in run_cell\n    raw_cell, store_history, silent, shell_futures)\n  File \"C:\\Users\\Paul\\Anaconda3\\lib\\site-packages\\IPython\\core\\interactiveshell.py\", line 2785, in _run_cell\n    interactivity=interactivity, compiler=compiler, result=result)\n  File \"C:\\Users\\Paul\\Anaconda3\\lib\\site-packages\\IPython\\core\\interactiveshell.py\", line 2901, in run_ast_nodes\n    if self.run_code(code, result):\n  File \"C:\\Users\\Paul\\Anaconda3\\lib\\site-packages\\IPython\\core\\interactiveshell.py\", line 2961, in run_code\n    exec(code_obj, self.user_global_ns, self.user_ns)\n  File \"<ipython-input-3-79f0e9eac7d7>\", line 1, in <module>\n    E_G = Encoder_Generator(num_channels=3, resolution=32, **config.G)\n  File \"C:\\Users\\Paul\\Documents\\Keras-progressive_growing_of_gans\\Progressive growing of GANs\\model.py\", line 205, in Encoder_Generator\n    output = LODSelectLayer(cur_lod, name='Glod')(lods)\n  File \"C:\\Users\\Paul\\Anaconda3\\lib\\site-packages\\keras\\engine\\topology.py\", line 602, in __call__\n    output = self.call(inputs, **kwargs)\n  File \"C:\\Users\\Paul\\Documents\\Keras-progressive_growing_of_gans\\Progressive growing of GANs\\layers.py\", line 70, in call\n    r = K.switch(K.less(t, i+1), v[i] * ((i+1)-t) + v[i+1] * (t-i), r)\n  File \"C:\\Users\\Paul\\Anaconda3\\lib\\site-packages\\tensorflow\\python\\ops\\math_ops.py\", line 934, in binary_op_wrapper\n    return func(x, y, name=name)\n  File \"C:\\Users\\Paul\\Anaconda3\\lib\\site-packages\\tensorflow\\python\\ops\\gen_math_ops.py\", line 192, in add\n    \"Add\", x=x, y=y, name=name)\n  File \"C:\\Users\\Paul\\Anaconda3\\lib\\site-packages\\tensorflow\\python\\framework\\op_def_library.py\", line 787, in _apply_op_helper\n    op_def=op_def)\n  File \"C:\\Users\\Paul\\Anaconda3\\lib\\site-packages\\tensorflow\\python\\framework\\ops.py\", line 3271, in create_op\n    op_def=op_def)\n  File \"C:\\Users\\Paul\\Anaconda3\\lib\\site-packages\\tensorflow\\python\\framework\\ops.py\", line 1650, in __init__\n    self._traceback = self._graph._extract_stack()  # pylint: disable=protected-access\n\nInvalidArgumentError (see above for traceback): Incompatible shapes: [8,32,32,3] vs. [4,32,32,3]\n\t [[Node: Glod/add = Add[T=DT_FLOAT, _device=\"/job:localhost/replica:0/task:0/device:GPU:0\"](Glod/mul, Glod/mul_1)]]\n\t [[Node: Glod/cond_3/Merge/_261 = _Recv[client_terminated=false, recv_device=\"/job:localhost/replica:0/task:0/device:CPU:0\", send_device=\"/job:localhost/replica:0/task:0/device:GPU:0\", send_device_incarnation=1, tensor_name=\"edge_1758_Glod/cond_3/Merge\", tensor_type=DT_FLOAT, _device=\"/job:localhost/replica:0/task:0/device:CPU:0\"]()]]\n"
     ]
    }
   ],
   "source": [
    "E_G.predict(real_1)"
   ]
  },
  {
   "cell_type": "code",
   "execution_count": null,
   "metadata": {},
   "outputs": [],
   "source": []
  },
  {
   "cell_type": "code",
   "execution_count": null,
   "metadata": {},
   "outputs": [],
   "source": []
  },
  {
   "cell_type": "code",
   "execution_count": null,
   "metadata": {},
   "outputs": [],
   "source": []
  },
  {
   "cell_type": "code",
   "execution_count": null,
   "metadata": {},
   "outputs": [],
   "source": []
  },
  {
   "cell_type": "code",
   "execution_count": 2,
   "metadata": {
    "scrolled": false
   },
   "outputs": [
    {
     "name": "stdout",
     "output_type": "stream",
     "text": [
      "WARNING:tensorflow:From C:\\Users\\Paul\\Anaconda3\\lib\\site-packages\\keras\\backend\\tensorflow_backend.py:1290: calling reduce_mean (from tensorflow.python.ops.math_ops) with keep_dims is deprecated and will be removed in a future version.\n",
      "Instructions for updating:\n",
      "keep_dims is deprecated, use keepdims instead\n"
     ]
    }
   ],
   "source": [
    "E_G = model.Encoder_Generator( use_wscale=False)"
   ]
  },
  {
   "cell_type": "code",
   "execution_count": 3,
   "metadata": {},
   "outputs": [],
   "source": [
    "Et_Gt = model.new_batch_norm(E_G)"
   ]
  },
  {
   "cell_type": "code",
   "execution_count": 4,
   "metadata": {},
   "outputs": [],
   "source": [
    "Et = model.extract_encoder(Et_Gt)\n",
    "E = model.extract_encoder(E_G)\n"
   ]
  },
  {
   "cell_type": "code",
   "execution_count": 5,
   "metadata": {
    "scrolled": true
   },
   "outputs": [],
   "source": [
    "Et_G = model.replace_batch_norm(E_G, Et_Gt, apply = 'encoder')\n",
    "\n",
    "E_Gt = model.replace_batch_norm(E_G, Et_Gt, apply = 'generator')"
   ]
  },
  {
   "cell_type": "code",
   "execution_count": 16,
   "metadata": {
    "collapsed": true
   },
   "outputs": [
    {
     "name": "stdout",
     "output_type": "stream",
     "text": [
      "_________________________________________________________________\n",
      "Layer (type)                 Output Shape              Param #   \n",
      "=================================================================\n",
      "model_6 (Model)              (None, 32, 32, 1)         9328388   \n",
      "_________________________________________________________________\n",
      "model_4 (Model)              (None, 4, 4, 256)         5189632   \n",
      "=================================================================\n",
      "Total params: 9,328,388\n",
      "Trainable params: 9,320,708\n",
      "Non-trainable params: 7,680\n",
      "_________________________________________________________________\n",
      "____________________________________________________________________________________________________\n",
      "Layer (type)                     Output Shape          Param #     Connected to                     \n",
      "====================================================================================================\n",
      "Eimages (InputLayer)             (None, 32, 32, 1)     0                                            \n",
      "____________________________________________________________________________________________________\n",
      "E4xNIN (Conv2D)                  (None, 32, 32, 256)   512         Eimages[0][0]                    \n",
      "____________________________________________________________________________________________________\n",
      "E4b (Conv2D)                     (None, 32, 32, 256)   590080      E4xNIN[3][0]                     \n",
      "____________________________________________________________________________________________________\n",
      "E4bBN (BatchNormalization)       (None, 32, 32, 256)   1024        E4b[3][0]                        \n",
      "____________________________________________________________________________________________________\n",
      "E4a (Conv2D)                     (None, 32, 32, 256)   590080      E4bBN[1][0]                      \n",
      "____________________________________________________________________________________________________\n",
      "E4aBN (BatchNormalization)       (None, 32, 32, 256)   1024        E4a[3][0]                        \n",
      "____________________________________________________________________________________________________\n",
      "E3xs (AveragePooling2D)          (None, 16, 16, 1)     0           Eimages[0][0]                    \n",
      "____________________________________________________________________________________________________\n",
      "E4dn (AveragePooling2D)          (None, 16, 16, 256)   0           E4aBN[1][0]                      \n",
      "____________________________________________________________________________________________________\n",
      "E3xNIN (Conv2D)                  (None, 16, 16, 256)   512         E3xs[3][0]                       \n",
      "____________________________________________________________________________________________________\n",
      "E3lod (LODSelectLayer)           (None, 16, 16, 256)   0           E4dn[3][0]                       \n",
      "                                                                   E3xNIN[3][0]                     \n",
      "____________________________________________________________________________________________________\n",
      "E3b (Conv2D)                     (None, 16, 16, 256)   590080      E3lod[3][0]                      \n",
      "____________________________________________________________________________________________________\n",
      "E3bBN (BatchNormalization)       (None, 16, 16, 256)   1024        E3b[3][0]                        \n",
      "____________________________________________________________________________________________________\n",
      "E3a (Conv2D)                     (None, 16, 16, 256)   590080      E3bBN[1][0]                      \n",
      "____________________________________________________________________________________________________\n",
      "E3aBN (BatchNormalization)       (None, 16, 16, 256)   1024        E3a[3][0]                        \n",
      "____________________________________________________________________________________________________\n",
      "E2xs (AveragePooling2D)          (None, 8, 8, 1)       0           Eimages[0][0]                    \n",
      "____________________________________________________________________________________________________\n",
      "E3dn (AveragePooling2D)          (None, 8, 8, 256)     0           E3aBN[1][0]                      \n",
      "____________________________________________________________________________________________________\n",
      "E2xNIN (Conv2D)                  (None, 8, 8, 256)     512         E2xs[3][0]                       \n",
      "____________________________________________________________________________________________________\n",
      "E2lod (LODSelectLayer)           (None, 8, 8, 256)     0           E3dn[3][0]                       \n",
      "                                                                   E2xNIN[3][0]                     \n",
      "____________________________________________________________________________________________________\n",
      "E2b (Conv2D)                     (None, 8, 8, 256)     590080      E2lod[3][0]                      \n",
      "____________________________________________________________________________________________________\n",
      "E2bBN (BatchNormalization)       (None, 8, 8, 256)     1024        E2b[3][0]                        \n",
      "____________________________________________________________________________________________________\n",
      "E2a (Conv2D)                     (None, 8, 8, 256)     590080      E2bBN[1][0]                      \n",
      "____________________________________________________________________________________________________\n",
      "E2aBN (BatchNormalization)       (None, 8, 8, 256)     1024        E2a[3][0]                        \n",
      "____________________________________________________________________________________________________\n",
      "E1xs (AveragePooling2D)          (None, 4, 4, 1)       0           Eimages[0][0]                    \n",
      "____________________________________________________________________________________________________\n",
      "E2dn (AveragePooling2D)          (None, 4, 4, 256)     0           E2aBN[1][0]                      \n",
      "____________________________________________________________________________________________________\n",
      "E1xNIN (Conv2D)                  (None, 4, 4, 256)     512         E1xs[3][0]                       \n",
      "____________________________________________________________________________________________________\n",
      "E1lod (LODSelectLayer)           (None, 4, 4, 256)     0           E2dn[3][0]                       \n",
      "                                                                   E1xNIN[3][0]                     \n",
      "____________________________________________________________________________________________________\n",
      "E1b (Conv2D)                     (None, 4, 4, 256)     590080      E1lod[3][0]                      \n",
      "____________________________________________________________________________________________________\n",
      "E1bBN (BatchNormalization)       (None, 4, 4, 256)     1024        E1b[3][0]                        \n",
      "____________________________________________________________________________________________________\n",
      "E1a (Conv2D)                     (None, 4, 4, 256)     1048832     E1bBN[1][0]                      \n",
      "____________________________________________________________________________________________________\n",
      "E1aBN (BatchNormalization)       (None, 4, 4, 256)     1024        E1a[3][0]                        \n",
      "____________________________________________________________________________________________________\n",
      "G1a (Conv2D)                     (None, 4, 4, 256)     590080      E1aBN[1][0]                      \n",
      "____________________________________________________________________________________________________\n",
      "G1aBN_twin (BatchNormalization)  (None, 4, 4, 256)     1024        G1a[3][0]                        \n",
      "____________________________________________________________________________________________________\n",
      "G1aPN (PixelNormLayer)           (None, 4, 4, 256)     0           G1aBN_twin[1][0]                 \n",
      "____________________________________________________________________________________________________\n",
      "G2up (UpSampling2D)              (None, 8, 8, 256)     0           G1aPN[3][0]                      \n",
      "____________________________________________________________________________________________________\n",
      "concatenate_1 (Concatenate)      (None, 8, 8, 256)     0           E2aBN[1][0]                      \n",
      "                                                                   G2up[3][0]                       \n",
      "____________________________________________________________________________________________________\n",
      "G2a (Conv2D)                     (None, 8, 8, 256)     590080      concatenate_1[3][0]              \n",
      "____________________________________________________________________________________________________\n",
      "G2aBN_twin (BatchNormalization)  (None, 8, 8, 256)     1024        G2a[3][0]                        \n",
      "____________________________________________________________________________________________________\n",
      "G2aPN (PixelNormLayer)           (None, 8, 8, 256)     0           G2aBN_twin[1][0]                 \n",
      "____________________________________________________________________________________________________\n",
      "G2b (Conv2D)                     (None, 8, 8, 256)     590080      G2aPN[3][0]                      \n",
      "____________________________________________________________________________________________________\n",
      "G2bBN_twin (BatchNormalization)  (None, 8, 8, 256)     1024        G2b[3][0]                        \n",
      "____________________________________________________________________________________________________\n",
      "G2bPN (PixelNormLayer)           (None, 8, 8, 256)     0           G2bBN_twin[1][0]                 \n",
      "____________________________________________________________________________________________________\n",
      "G3up (UpSampling2D)              (None, 16, 16, 256)   0           G2bPN[3][0]                      \n",
      "____________________________________________________________________________________________________\n",
      "concatenate_2 (Concatenate)      (None, 16, 16, 256)   0           E3aBN[1][0]                      \n",
      "                                                                   G3up[3][0]                       \n",
      "____________________________________________________________________________________________________\n",
      "G3a (Conv2D)                     (None, 16, 16, 256)   590080      concatenate_2[3][0]              \n",
      "____________________________________________________________________________________________________\n",
      "G3aBN_twin (BatchNormalization)  (None, 16, 16, 256)   1024        G3a[3][0]                        \n",
      "____________________________________________________________________________________________________\n",
      "G3aPN (PixelNormLayer)           (None, 16, 16, 256)   0           G3aBN_twin[1][0]                 \n",
      "____________________________________________________________________________________________________\n",
      "G3b (Conv2D)                     (None, 16, 16, 256)   590080      G3aPN[3][0]                      \n",
      "____________________________________________________________________________________________________\n",
      "G3bBN_twin (BatchNormalization)  (None, 16, 16, 256)   1024        G3b[3][0]                        \n",
      "____________________________________________________________________________________________________\n",
      "G3bPN (PixelNormLayer)           (None, 16, 16, 256)   0           G3bBN_twin[1][0]                 \n",
      "____________________________________________________________________________________________________\n",
      "G4up (UpSampling2D)              (None, 32, 32, 256)   0           G3bPN[3][0]                      \n",
      "____________________________________________________________________________________________________\n",
      "concatenate_3 (Concatenate)      (None, 32, 32, 256)   0           E4aBN[1][0]                      \n",
      "                                                                   G4up[3][0]                       \n",
      "____________________________________________________________________________________________________\n",
      "G4a (Conv2D)                     (None, 32, 32, 256)   590080      concatenate_3[3][0]              \n",
      "____________________________________________________________________________________________________\n",
      "G4aBN_twin (BatchNormalization)  (None, 32, 32, 256)   1024        G4a[3][0]                        \n",
      "____________________________________________________________________________________________________\n",
      "G4aPN (PixelNormLayer)           (None, 32, 32, 256)   0           G4aBN_twin[1][0]                 \n",
      "____________________________________________________________________________________________________\n",
      "G4b (Conv2D)                     (None, 32, 32, 256)   590080      G4aPN[3][0]                      \n",
      "____________________________________________________________________________________________________\n",
      "G4bBN_twin (BatchNormalization)  (None, 32, 32, 256)   1024        G4b[3][0]                        \n",
      "____________________________________________________________________________________________________\n",
      "G4bPN (PixelNormLayer)           (None, 32, 32, 256)   0           G4bBN_twin[1][0]                 \n",
      "____________________________________________________________________________________________________\n",
      "Glod0NIN (Conv2D)                (None, 32, 32, 1)     257         G4bPN[3][0]                      \n",
      "____________________________________________________________________________________________________\n",
      "Glod1NIN (Conv2D)                (None, 16, 16, 1)     257         G3bPN[3][0]                      \n",
      "____________________________________________________________________________________________________\n",
      "Glod2NIN (Conv2D)                (None, 8, 8, 1)       257         G2bPN[3][0]                      \n",
      "____________________________________________________________________________________________________\n",
      "Glod3NIN (Conv2D)                (None, 4, 4, 1)       257         G1aPN[3][0]                      \n",
      "____________________________________________________________________________________________________\n",
      "Glod (LODSelectLayer)            (None, 32, 32, 1)     0           Glod0NIN[3][0]                   \n",
      "                                                                   Glod1NIN[3][0]                   \n",
      "                                                                   Glod2NIN[3][0]                   \n",
      "                                                                   Glod3NIN[3][0]                   \n",
      "====================================================================================================\n",
      "Total params: 9,328,388\n",
      "Trainable params: 9,320,708\n",
      "Non-trainable params: 7,680\n",
      "____________________________________________________________________________________________________\n"
     ]
    },
    {
     "data": {
      "text/plain": [
       "(None, None)"
      ]
     },
     "execution_count": 16,
     "metadata": {},
     "output_type": "execute_result"
    }
   ],
   "source": [
    "x = Sequential([E_Gt, E])\n",
    "x.summary(), E_Gt.summary()"
   ]
  },
  {
   "cell_type": "code",
   "execution_count": 12,
   "metadata": {
    "collapsed": true
   },
   "outputs": [
    {
     "ename": "ValueError",
     "evalue": "Layer model_4 was called with an input that isn't a symbolic tensor. Received type: <class 'keras.engine.training.Model'>. Full input: [<keras.engine.training.Model object at 0x000002339EE94F28>]. All inputs to the layer should be tensors.",
     "output_type": "error",
     "traceback": [
      "\u001b[1;31m---------------------------------------------------------------------------\u001b[0m",
      "\u001b[1;31mValueError\u001b[0m                                Traceback (most recent call last)",
      "\u001b[1;32m~\\Anaconda3\\lib\\site-packages\\keras\\engine\\topology.py\u001b[0m in \u001b[0;36massert_input_compatibility\u001b[1;34m(self, inputs)\u001b[0m\n\u001b[0;32m    424\u001b[0m             \u001b[1;32mtry\u001b[0m\u001b[1;33m:\u001b[0m\u001b[1;33m\u001b[0m\u001b[0m\n\u001b[1;32m--> 425\u001b[1;33m                 \u001b[0mK\u001b[0m\u001b[1;33m.\u001b[0m\u001b[0mis_keras_tensor\u001b[0m\u001b[1;33m(\u001b[0m\u001b[0mx\u001b[0m\u001b[1;33m)\u001b[0m\u001b[1;33m\u001b[0m\u001b[0m\n\u001b[0m\u001b[0;32m    426\u001b[0m             \u001b[1;32mexcept\u001b[0m \u001b[0mValueError\u001b[0m\u001b[1;33m:\u001b[0m\u001b[1;33m\u001b[0m\u001b[0m\n",
      "\u001b[1;32m~\\Anaconda3\\lib\\site-packages\\keras\\backend\\tensorflow_backend.py\u001b[0m in \u001b[0;36mis_keras_tensor\u001b[1;34m(x)\u001b[0m\n\u001b[0;32m    402\u001b[0m                           tf.SparseTensor)):\n\u001b[1;32m--> 403\u001b[1;33m         raise ValueError('Unexpectedly found an instance of type `' + str(type(x)) + '`. '\n\u001b[0m\u001b[0;32m    404\u001b[0m                          'Expected a symbolic tensor instance.')\n",
      "\u001b[1;31mValueError\u001b[0m: Unexpectedly found an instance of type `<class 'keras.engine.training.Model'>`. Expected a symbolic tensor instance.",
      "\nDuring handling of the above exception, another exception occurred:\n",
      "\u001b[1;31mValueError\u001b[0m                                Traceback (most recent call last)",
      "\u001b[1;32m<ipython-input-12-1e0282cc8cf6>\u001b[0m in \u001b[0;36m<module>\u001b[1;34m()\u001b[0m\n\u001b[0;32m      1\u001b[0m \u001b[1;32mfrom\u001b[0m \u001b[0mkeras\u001b[0m\u001b[1;33m.\u001b[0m\u001b[0mmodels\u001b[0m \u001b[1;32mimport\u001b[0m \u001b[0mModel\u001b[0m\u001b[1;33m,\u001b[0m \u001b[0mSequential\u001b[0m\u001b[1;33m\u001b[0m\u001b[0m\n\u001b[1;32m----> 2\u001b[1;33m \u001b[0mE_G_twin_E\u001b[0m \u001b[1;33m=\u001b[0m \u001b[0mModel\u001b[0m\u001b[1;33m(\u001b[0m\u001b[0minputs\u001b[0m \u001b[1;33m=\u001b[0m \u001b[0mE_Gt\u001b[0m\u001b[1;33m.\u001b[0m\u001b[0minput\u001b[0m\u001b[1;33m,\u001b[0m \u001b[0moutputs\u001b[0m\u001b[1;33m=\u001b[0m \u001b[0mE\u001b[0m\u001b[1;33m(\u001b[0m\u001b[0mE_Gt\u001b[0m\u001b[1;33m)\u001b[0m\u001b[1;33m.\u001b[0m\u001b[0moutput\u001b[0m\u001b[1;33m)\u001b[0m\u001b[1;33m\u001b[0m\u001b[0m\n\u001b[0m",
      "\u001b[1;32m~\\Anaconda3\\lib\\site-packages\\keras\\engine\\topology.py\u001b[0m in \u001b[0;36m__call__\u001b[1;34m(self, inputs, **kwargs)\u001b[0m\n\u001b[0;32m    584\u001b[0m             \u001b[1;31m# Raise exceptions in case the input is not compatible\u001b[0m\u001b[1;33m\u001b[0m\u001b[1;33m\u001b[0m\u001b[0m\n\u001b[0;32m    585\u001b[0m             \u001b[1;31m# with the input_spec set at build time.\u001b[0m\u001b[1;33m\u001b[0m\u001b[1;33m\u001b[0m\u001b[0m\n\u001b[1;32m--> 586\u001b[1;33m             \u001b[0mself\u001b[0m\u001b[1;33m.\u001b[0m\u001b[0massert_input_compatibility\u001b[0m\u001b[1;33m(\u001b[0m\u001b[0minputs\u001b[0m\u001b[1;33m)\u001b[0m\u001b[1;33m\u001b[0m\u001b[0m\n\u001b[0m\u001b[0;32m    587\u001b[0m \u001b[1;33m\u001b[0m\u001b[0m\n\u001b[0;32m    588\u001b[0m             \u001b[1;31m# Handle mask propagation.\u001b[0m\u001b[1;33m\u001b[0m\u001b[1;33m\u001b[0m\u001b[0m\n",
      "\u001b[1;32m~\\Anaconda3\\lib\\site-packages\\keras\\engine\\topology.py\u001b[0m in \u001b[0;36massert_input_compatibility\u001b[1;34m(self, inputs)\u001b[0m\n\u001b[0;32m    429\u001b[0m                                  \u001b[1;34m'Received type: '\u001b[0m \u001b[1;33m+\u001b[0m\u001b[1;33m\u001b[0m\u001b[0m\n\u001b[0;32m    430\u001b[0m                                  \u001b[0mstr\u001b[0m\u001b[1;33m(\u001b[0m\u001b[0mtype\u001b[0m\u001b[1;33m(\u001b[0m\u001b[0mx\u001b[0m\u001b[1;33m)\u001b[0m\u001b[1;33m)\u001b[0m \u001b[1;33m+\u001b[0m \u001b[1;34m'. Full input: '\u001b[0m \u001b[1;33m+\u001b[0m\u001b[1;33m\u001b[0m\u001b[0m\n\u001b[1;32m--> 431\u001b[1;33m                                  \u001b[0mstr\u001b[0m\u001b[1;33m(\u001b[0m\u001b[0minputs\u001b[0m\u001b[1;33m)\u001b[0m \u001b[1;33m+\u001b[0m \u001b[1;34m'. All inputs to the layer '\u001b[0m\u001b[1;33m\u001b[0m\u001b[0m\n\u001b[0m\u001b[0;32m    432\u001b[0m                                  'should be tensors.')\n\u001b[0;32m    433\u001b[0m \u001b[1;33m\u001b[0m\u001b[0m\n",
      "\u001b[1;31mValueError\u001b[0m: Layer model_4 was called with an input that isn't a symbolic tensor. Received type: <class 'keras.engine.training.Model'>. Full input: [<keras.engine.training.Model object at 0x000002339EE94F28>]. All inputs to the layer should be tensors."
     ]
    }
   ],
   "source": [
    "from keras.models import Model, Sequential\n",
    "E_G_twin_E = Model(inputs = E_Gt.input, outputs= E(E_Gt).output)"
   ]
  },
  {
   "cell_type": "code",
   "execution_count": null,
   "metadata": {},
   "outputs": [],
   "source": []
  },
  {
   "cell_type": "code",
   "execution_count": null,
   "metadata": {},
   "outputs": [],
   "source": []
  },
  {
   "cell_type": "code",
   "execution_count": 10,
   "metadata": {
    "scrolled": true
   },
   "outputs": [
    {
     "data": {
      "text/plain": [
       "<tf.Tensor 'G1a_6/sub:0' shape=(?, 4, 4, 256) dtype=float32>"
      ]
     },
     "execution_count": 10,
     "metadata": {},
     "output_type": "execute_result"
    }
   ],
   "source": [
    "E_G.get_layer('G1a')(Et.output)"
   ]
  },
  {
   "cell_type": "code",
   "execution_count": 3,
   "metadata": {
    "collapsed": true
   },
   "outputs": [
    {
     "name": "stderr",
     "output_type": "stream",
     "text": [
      "C:\\Users\\Paul\\Anaconda3\\lib\\site-packages\\keras\\engine\\topology.py:1571: UserWarning: Model inputs must come from a Keras Input layer, they cannot be the output of a previous non-Input layer. Here, a tensor specified as input to \"model_2\" was not an Input tensor, it was generated by layer E1aBN.\n",
      "Note that input tensors are instantiated via `tensor = Input(shape)`.\n",
      "The tensor that caused the issue was: E1aBN/cond/Merge:0\n",
      "  str(x.name))\n"
     ]
    },
    {
     "ename": "TypeError",
     "evalue": "Input layers to a `Model` must be `InputLayer` objects. Received inputs: Tensor(\"E1aBN/cond/Merge:0\", shape=(?, 4, 4, 256), dtype=float32). Input 0 (0-based) originates from layer type `BatchNormalization`.",
     "output_type": "error",
     "traceback": [
      "\u001b[1;31m---------------------------------------------------------------------------\u001b[0m",
      "\u001b[1;31mTypeError\u001b[0m                                 Traceback (most recent call last)",
      "\u001b[1;32m<ipython-input-3-65b10590fba0>\u001b[0m in \u001b[0;36m<module>\u001b[1;34m()\u001b[0m\n\u001b[0;32m      1\u001b[0m \u001b[1;32mfrom\u001b[0m \u001b[0mkeras\u001b[0m\u001b[1;33m.\u001b[0m\u001b[0mmodels\u001b[0m \u001b[1;32mimport\u001b[0m \u001b[0mModel\u001b[0m\u001b[1;33m,\u001b[0m \u001b[0mSequential\u001b[0m\u001b[1;33m\u001b[0m\u001b[0m\n\u001b[0;32m      2\u001b[0m \u001b[1;33m\u001b[0m\u001b[0m\n\u001b[1;32m----> 3\u001b[1;33m \u001b[0mG\u001b[0m \u001b[1;33m=\u001b[0m \u001b[0mModel\u001b[0m\u001b[1;33m(\u001b[0m\u001b[0minputs\u001b[0m\u001b[1;33m=\u001b[0m\u001b[0mE_G\u001b[0m\u001b[1;33m.\u001b[0m\u001b[0mget_layer\u001b[0m\u001b[1;33m(\u001b[0m\u001b[1;34m'G1a'\u001b[0m\u001b[1;33m)\u001b[0m\u001b[1;33m.\u001b[0m\u001b[0minput\u001b[0m\u001b[1;33m,\u001b[0m \u001b[0moutputs\u001b[0m\u001b[1;33m=\u001b[0m\u001b[0mE_G\u001b[0m\u001b[1;33m.\u001b[0m\u001b[0moutput\u001b[0m\u001b[1;33m)\u001b[0m\u001b[1;33m\u001b[0m\u001b[0m\n\u001b[0m",
      "\u001b[1;32m~\\Anaconda3\\lib\\site-packages\\keras\\legacy\\interfaces.py\u001b[0m in \u001b[0;36mwrapper\u001b[1;34m(*args, **kwargs)\u001b[0m\n\u001b[0;32m     85\u001b[0m                 warnings.warn('Update your `' + object_name +\n\u001b[0;32m     86\u001b[0m                               '` call to the Keras 2 API: ' + signature, stacklevel=2)\n\u001b[1;32m---> 87\u001b[1;33m             \u001b[1;32mreturn\u001b[0m \u001b[0mfunc\u001b[0m\u001b[1;33m(\u001b[0m\u001b[1;33m*\u001b[0m\u001b[0margs\u001b[0m\u001b[1;33m,\u001b[0m \u001b[1;33m**\u001b[0m\u001b[0mkwargs\u001b[0m\u001b[1;33m)\u001b[0m\u001b[1;33m\u001b[0m\u001b[0m\n\u001b[0m\u001b[0;32m     88\u001b[0m         \u001b[0mwrapper\u001b[0m\u001b[1;33m.\u001b[0m\u001b[0m_original_function\u001b[0m \u001b[1;33m=\u001b[0m \u001b[0mfunc\u001b[0m\u001b[1;33m\u001b[0m\u001b[0m\n\u001b[0;32m     89\u001b[0m         \u001b[1;32mreturn\u001b[0m \u001b[0mwrapper\u001b[0m\u001b[1;33m\u001b[0m\u001b[0m\n",
      "\u001b[1;32m~\\Anaconda3\\lib\\site-packages\\keras\\engine\\topology.py\u001b[0m in \u001b[0;36m__init__\u001b[1;34m(self, inputs, outputs, name)\u001b[0m\n\u001b[0;32m   1629\u001b[0m                     'from layer type `{}`.'.format(inputs,\n\u001b[0;32m   1630\u001b[0m                                                    \u001b[0mi\u001b[0m\u001b[1;33m,\u001b[0m\u001b[1;33m\u001b[0m\u001b[0m\n\u001b[1;32m-> 1631\u001b[1;33m                                                    layer.__class__.__name__))\n\u001b[0m\u001b[0;32m   1632\u001b[0m             \u001b[0mself\u001b[0m\u001b[1;33m.\u001b[0m\u001b[0minput_names\u001b[0m\u001b[1;33m.\u001b[0m\u001b[0mappend\u001b[0m\u001b[1;33m(\u001b[0m\u001b[0mlayer\u001b[0m\u001b[1;33m.\u001b[0m\u001b[0mname\u001b[0m\u001b[1;33m)\u001b[0m\u001b[1;33m\u001b[0m\u001b[0m\n\u001b[0;32m   1633\u001b[0m             \u001b[1;32mif\u001b[0m \u001b[0mlayer\u001b[0m\u001b[1;33m.\u001b[0m\u001b[0mis_placeholder\u001b[0m\u001b[1;33m:\u001b[0m\u001b[1;33m\u001b[0m\u001b[0m\n",
      "\u001b[1;31mTypeError\u001b[0m: Input layers to a `Model` must be `InputLayer` objects. Received inputs: Tensor(\"E1aBN/cond/Merge:0\", shape=(?, 4, 4, 256), dtype=float32). Input 0 (0-based) originates from layer type `BatchNormalization`."
     ]
    }
   ],
   "source": [
    "from keras.models import Model, Sequential\n",
    "\n",
    "G = Model(inputs=E_G.get_layer('G1a').input, outputs=E_G.output)"
   ]
  },
  {
   "cell_type": "code",
   "execution_count": 13,
   "metadata": {
    "collapsed": true
   },
   "outputs": [
    {
     "name": "stdout",
     "output_type": "stream",
     "text": [
      "____________________________________________________________________________________________________\n",
      "Layer (type)                     Output Shape          Param #     Connected to                     \n",
      "====================================================================================================\n",
      "Eimages (InputLayer)             (None, 32, 32, 1)     0                                            \n",
      "____________________________________________________________________________________________________\n",
      "E4xNIN (Conv2D)                  (None, 32, 32, 256)   512         Eimages[0][0]                    \n",
      "____________________________________________________________________________________________________\n",
      "E4b (Conv2D)                     (None, 32, 32, 256)   590080      E4xNIN[1][0]                     \n",
      "____________________________________________________________________________________________________\n",
      "E4bBN_twin (BatchNormalization)  (None, 32, 32, 256)   1024        E4b[1][0]                        \n",
      "____________________________________________________________________________________________________\n",
      "E4a (Conv2D)                     (None, 32, 32, 256)   590080      E4bBN_twin[0][0]                 \n",
      "____________________________________________________________________________________________________\n",
      "E4aBN_twin (BatchNormalization)  (None, 32, 32, 256)   1024        E4a[1][0]                        \n",
      "____________________________________________________________________________________________________\n",
      "E3xs (AveragePooling2D)          (None, 16, 16, 1)     0           Eimages[0][0]                    \n",
      "____________________________________________________________________________________________________\n",
      "E4dn (AveragePooling2D)          (None, 16, 16, 256)   0           E4aBN_twin[0][0]                 \n",
      "____________________________________________________________________________________________________\n",
      "E3xNIN (Conv2D)                  (None, 16, 16, 256)   512         E3xs[1][0]                       \n",
      "____________________________________________________________________________________________________\n",
      "E3lod (LODSelectLayer)           (None, 16, 16, 256)   0           E4dn[1][0]                       \n",
      "                                                                   E3xNIN[1][0]                     \n",
      "____________________________________________________________________________________________________\n",
      "E3b (Conv2D)                     (None, 16, 16, 256)   590080      E3lod[1][0]                      \n",
      "____________________________________________________________________________________________________\n",
      "E3bBN_twin (BatchNormalization)  (None, 16, 16, 256)   1024        E3b[1][0]                        \n",
      "____________________________________________________________________________________________________\n",
      "E3a (Conv2D)                     (None, 16, 16, 256)   590080      E3bBN_twin[0][0]                 \n",
      "____________________________________________________________________________________________________\n",
      "E3aBN_twin (BatchNormalization)  (None, 16, 16, 256)   1024        E3a[1][0]                        \n",
      "____________________________________________________________________________________________________\n",
      "E2xs (AveragePooling2D)          (None, 8, 8, 1)       0           Eimages[0][0]                    \n",
      "____________________________________________________________________________________________________\n",
      "E3dn (AveragePooling2D)          (None, 8, 8, 256)     0           E3aBN_twin[0][0]                 \n",
      "____________________________________________________________________________________________________\n",
      "E2xNIN (Conv2D)                  (None, 8, 8, 256)     512         E2xs[1][0]                       \n",
      "____________________________________________________________________________________________________\n",
      "E2lod (LODSelectLayer)           (None, 8, 8, 256)     0           E3dn[1][0]                       \n",
      "                                                                   E2xNIN[1][0]                     \n",
      "____________________________________________________________________________________________________\n",
      "E2b (Conv2D)                     (None, 8, 8, 256)     590080      E2lod[1][0]                      \n",
      "____________________________________________________________________________________________________\n",
      "E2bBN_twin (BatchNormalization)  (None, 8, 8, 256)     1024        E2b[1][0]                        \n",
      "____________________________________________________________________________________________________\n",
      "E2a (Conv2D)                     (None, 8, 8, 256)     590080      E2bBN_twin[0][0]                 \n",
      "____________________________________________________________________________________________________\n",
      "E2aBN_twin (BatchNormalization)  (None, 8, 8, 256)     1024        E2a[1][0]                        \n",
      "____________________________________________________________________________________________________\n",
      "E1xs (AveragePooling2D)          (None, 4, 4, 1)       0           Eimages[0][0]                    \n",
      "____________________________________________________________________________________________________\n",
      "E2dn (AveragePooling2D)          (None, 4, 4, 256)     0           E2aBN_twin[0][0]                 \n",
      "____________________________________________________________________________________________________\n",
      "E1xNIN (Conv2D)                  (None, 4, 4, 256)     512         E1xs[1][0]                       \n",
      "____________________________________________________________________________________________________\n",
      "E1lod (LODSelectLayer)           (None, 4, 4, 256)     0           E2dn[1][0]                       \n",
      "                                                                   E1xNIN[1][0]                     \n",
      "____________________________________________________________________________________________________\n",
      "E1b (Conv2D)                     (None, 4, 4, 256)     590080      E1lod[1][0]                      \n",
      "____________________________________________________________________________________________________\n",
      "E1bBN_twin (BatchNormalization)  (None, 4, 4, 256)     1024        E1b[1][0]                        \n",
      "____________________________________________________________________________________________________\n",
      "E1a (Conv2D)                     (None, 4, 4, 256)     1048832     E1bBN_twin[0][0]                 \n",
      "____________________________________________________________________________________________________\n",
      "E1aBN_twin (BatchNormalization)  (None, 4, 4, 256)     1024        E1a[1][0]                        \n",
      "____________________________________________________________________________________________________\n",
      "G1a (Conv2D)                     (None, 4, 4, 256)     590080      E1aBN_twin[0][0]                 \n",
      "====================================================================================================\n",
      "Total params: 5,779,712\n",
      "Trainable params: 5,775,616\n",
      "Non-trainable params: 4,096\n",
      "____________________________________________________________________________________________________\n"
     ]
    }
   ],
   "source": [
    "Et_G.summary()"
   ]
  },
  {
   "cell_type": "code",
   "execution_count": null,
   "metadata": {},
   "outputs": [],
   "source": []
  },
  {
   "cell_type": "code",
   "execution_count": 14,
   "metadata": {},
   "outputs": [
    {
     "data": {
      "text/plain": [
       "<keras.models.Sequential at 0x1db0ecdf518>"
      ]
     },
     "execution_count": 14,
     "metadata": {},
     "output_type": "execute_result"
    }
   ],
   "source": [
    "from keras.models import Sequential\n",
    "Sequential([G, D])"
   ]
  },
  {
   "cell_type": "code",
   "execution_count": 10,
   "metadata": {
    "scrolled": true
   },
   "outputs": [],
   "source": [
    "D = model.Discriminator(resolution=32)"
   ]
  },
  {
   "cell_type": "code",
   "execution_count": 16,
   "metadata": {
    "collapsed": true
   },
   "outputs": [
    {
     "name": "stdout",
     "output_type": "stream",
     "text": [
      "____________________________________________________________________________________________________\n",
      "Layer (type)                     Output Shape          Param #     Connected to                     \n",
      "====================================================================================================\n",
      "Dimages (InputLayer)             (None, 16, 16, 1)     0                                            \n",
      "____________________________________________________________________________________________________\n",
      "D3xNIN (Conv2D)                  (None, 16, 16, 256)   256         Dimages[0][0]                    \n",
      "____________________________________________________________________________________________________\n",
      "D3xNINWS (WScaleLayer)           (None, 16, 16, 256)   1.0         D3xNIN[0][0]                     \n",
      "____________________________________________________________________________________________________\n",
      "add_bias_layer_73 (AddBiasLayer) (None, 16, 16, 256)   256         D3xNINWS[0][0]                   \n",
      "____________________________________________________________________________________________________\n",
      "activation_73 (Activation)       (None, 16, 16, 256)   0           add_bias_layer_73[0][0]          \n",
      "____________________________________________________________________________________________________\n",
      "D3b (Conv2D)                     (None, 16, 16, 256)   589824      activation_73[0][0]              \n",
      "____________________________________________________________________________________________________\n",
      "D3bws (WScaleLayer)              (None, 16, 16, 256)   1.0         D3b[0][0]                        \n",
      "____________________________________________________________________________________________________\n",
      "add_bias_layer_74 (AddBiasLayer) (None, 16, 16, 256)   256         D3bws[0][0]                      \n",
      "____________________________________________________________________________________________________\n",
      "activation_74 (Activation)       (None, 16, 16, 256)   0           add_bias_layer_74[0][0]          \n",
      "____________________________________________________________________________________________________\n",
      "D3bBN (BatchNormalization)       (None, 16, 16, 256)   1024        activation_74[0][0]              \n",
      "____________________________________________________________________________________________________\n",
      "D3a (Conv2D)                     (None, 16, 16, 256)   589824      D3bBN[0][0]                      \n",
      "____________________________________________________________________________________________________\n",
      "D3aws (WScaleLayer)              (None, 16, 16, 256)   1.0         D3a[0][0]                        \n",
      "____________________________________________________________________________________________________\n",
      "D2xs (AveragePooling2D)          (None, 8, 8, 1)       0           Dimages[0][0]                    \n",
      "____________________________________________________________________________________________________\n",
      "add_bias_layer_75 (AddBiasLayer) (None, 16, 16, 256)   256         D3aws[0][0]                      \n",
      "____________________________________________________________________________________________________\n",
      "D2xNIN (Conv2D)                  (None, 8, 8, 256)     256         D2xs[0][0]                       \n",
      "____________________________________________________________________________________________________\n",
      "activation_75 (Activation)       (None, 16, 16, 256)   0           add_bias_layer_75[0][0]          \n",
      "____________________________________________________________________________________________________\n",
      "D2xNINWS (WScaleLayer)           (None, 8, 8, 256)     1.0         D2xNIN[0][0]                     \n",
      "____________________________________________________________________________________________________\n",
      "D3aBN (BatchNormalization)       (None, 16, 16, 256)   1024        activation_75[0][0]              \n",
      "____________________________________________________________________________________________________\n",
      "add_bias_layer_76 (AddBiasLayer) (None, 8, 8, 256)     256         D2xNINWS[0][0]                   \n",
      "____________________________________________________________________________________________________\n",
      "D3dn (AveragePooling2D)          (None, 8, 8, 256)     0           D3aBN[0][0]                      \n",
      "____________________________________________________________________________________________________\n",
      "activation_76 (Activation)       (None, 8, 8, 256)     0           add_bias_layer_76[0][0]          \n",
      "____________________________________________________________________________________________________\n",
      "D2lod (LODSelectLayer)           (None, 8, 8, 256)     0           D3dn[0][0]                       \n",
      "                                                                   activation_76[0][0]              \n",
      "____________________________________________________________________________________________________\n",
      "D2b (Conv2D)                     (None, 8, 8, 256)     589824      D2lod[0][0]                      \n",
      "____________________________________________________________________________________________________\n",
      "D2bws (WScaleLayer)              (None, 8, 8, 256)     1.0         D2b[0][0]                        \n",
      "____________________________________________________________________________________________________\n",
      "add_bias_layer_77 (AddBiasLayer) (None, 8, 8, 256)     256         D2bws[0][0]                      \n",
      "____________________________________________________________________________________________________\n",
      "activation_77 (Activation)       (None, 8, 8, 256)     0           add_bias_layer_77[0][0]          \n",
      "____________________________________________________________________________________________________\n",
      "D2bBN (BatchNormalization)       (None, 8, 8, 256)     1024        activation_77[0][0]              \n",
      "____________________________________________________________________________________________________\n",
      "D2a (Conv2D)                     (None, 8, 8, 256)     589824      D2bBN[0][0]                      \n",
      "____________________________________________________________________________________________________\n",
      "D2aws (WScaleLayer)              (None, 8, 8, 256)     1.0         D2a[0][0]                        \n",
      "____________________________________________________________________________________________________\n",
      "D1xs (AveragePooling2D)          (None, 4, 4, 1)       0           Dimages[0][0]                    \n",
      "____________________________________________________________________________________________________\n",
      "add_bias_layer_78 (AddBiasLayer) (None, 8, 8, 256)     256         D2aws[0][0]                      \n",
      "____________________________________________________________________________________________________\n",
      "D1xNIN (Conv2D)                  (None, 4, 4, 256)     256         D1xs[0][0]                       \n",
      "____________________________________________________________________________________________________\n",
      "activation_78 (Activation)       (None, 8, 8, 256)     0           add_bias_layer_78[0][0]          \n",
      "____________________________________________________________________________________________________\n",
      "D1xNINWS (WScaleLayer)           (None, 4, 4, 256)     1.0         D1xNIN[0][0]                     \n",
      "____________________________________________________________________________________________________\n",
      "D2aBN (BatchNormalization)       (None, 8, 8, 256)     1024        activation_78[0][0]              \n",
      "____________________________________________________________________________________________________\n",
      "add_bias_layer_79 (AddBiasLayer) (None, 4, 4, 256)     256         D1xNINWS[0][0]                   \n",
      "____________________________________________________________________________________________________\n",
      "D2dn (AveragePooling2D)          (None, 4, 4, 256)     0           D2aBN[0][0]                      \n",
      "____________________________________________________________________________________________________\n",
      "activation_79 (Activation)       (None, 4, 4, 256)     0           add_bias_layer_79[0][0]          \n",
      "____________________________________________________________________________________________________\n",
      "D1lod (LODSelectLayer)           (None, 4, 4, 256)     0           D2dn[0][0]                       \n",
      "                                                                   activation_79[0][0]              \n",
      "____________________________________________________________________________________________________\n",
      "Dstat (MinibatchStatConcatLayer) (None, 4, 4, 257)     0           D1lod[0][0]                      \n",
      "____________________________________________________________________________________________________\n",
      "D1b (Conv2D)                     (None, 4, 4, 256)     592128      Dstat[0][0]                      \n",
      "____________________________________________________________________________________________________\n",
      "D1bws (WScaleLayer)              (None, 4, 4, 256)     1.0         D1b[0][0]                        \n",
      "____________________________________________________________________________________________________\n",
      "add_bias_layer_80 (AddBiasLayer) (None, 4, 4, 256)     256         D1bws[0][0]                      \n",
      "____________________________________________________________________________________________________\n",
      "activation_80 (Activation)       (None, 4, 4, 256)     0           add_bias_layer_80[0][0]          \n",
      "____________________________________________________________________________________________________\n",
      "D1bBN (BatchNormalization)       (None, 4, 4, 256)     1024        activation_80[0][0]              \n",
      "____________________________________________________________________________________________________\n",
      "D1a (Conv2D)                     (None, 1, 1, 256)     1048576     D1bBN[0][0]                      \n",
      "____________________________________________________________________________________________________\n",
      "D1aws (WScaleLayer)              (None, 1, 1, 256)     1.0         D1a[0][0]                        \n",
      "____________________________________________________________________________________________________\n",
      "add_bias_layer_81 (AddBiasLayer) (None, 1, 1, 256)     256         D1aws[0][0]                      \n",
      "____________________________________________________________________________________________________\n",
      "activation_81 (Activation)       (None, 1, 1, 256)     0           add_bias_layer_81[0][0]          \n",
      "____________________________________________________________________________________________________\n",
      "D1aBN (BatchNormalization)       (None, 1, 1, 256)     1024        activation_81[0][0]              \n",
      "____________________________________________________________________________________________________\n",
      "Dscores (Dense)                  (None, 1, 1, 1)       256         D1aBN[0][0]                      \n",
      "____________________________________________________________________________________________________\n",
      "Dscoresws (WScaleLayer)          (None, 1, 1, 1)       1.0         Dscores[0][0]                    \n",
      "____________________________________________________________________________________________________\n",
      "add_bias_layer_82 (AddBiasLayer) (None, 1, 1, 1)       1           Dscoresws[0][0]                  \n",
      "____________________________________________________________________________________________________\n",
      "activation_82 (Activation)       (None, 1, 1, 1)       0           add_bias_layer_82[0][0]          \n",
      "====================================================================================================\n",
      "Total params: 4,009,483\n",
      "Trainable params: 4,006,401\n",
      "Non-trainable params: 3,082\n",
      "____________________________________________________________________________________________________\n"
     ]
    }
   ],
   "source": [
    "D.summary()"
   ]
  },
  {
   "cell_type": "code",
   "execution_count": null,
   "metadata": {},
   "outputs": [],
   "source": []
  },
  {
   "cell_type": "code",
   "execution_count": null,
   "metadata": {},
   "outputs": [],
   "source": []
  },
  {
   "cell_type": "code",
   "execution_count": 3,
   "metadata": {},
   "outputs": [],
   "source": [
    "tw = model.replace_batch_norm(G)"
   ]
  },
  {
   "cell_type": "code",
   "execution_count": 21,
   "metadata": {},
   "outputs": [],
   "source": [
    "enc = model.Encoder()"
   ]
  },
  {
   "cell_type": "code",
   "execution_count": 6,
   "metadata": {},
   "outputs": [],
   "source": [
    "enc_tw = model.replace_batch_norm(enc)"
   ]
  },
  {
   "cell_type": "code",
   "execution_count": 7,
   "metadata": {
    "collapsed": true
   },
   "outputs": [
    {
     "name": "stdout",
     "output_type": "stream",
     "text": [
      "____________________________________________________________________________________________________\n",
      "Layer (type)                     Output Shape          Param #     Connected to                     \n",
      "====================================================================================================\n",
      "Dimages (InputLayer)             (None, 32, 32, 1)     0                                            \n",
      "____________________________________________________________________________________________________\n",
      "D4xNIN (Conv2D)                  (None, 32, 32, 256)   256         Dimages[0][0]                    \n",
      "____________________________________________________________________________________________________\n",
      "D4xNINWS (WScaleLayer)           (None, 32, 32, 256)   1.0         D4xNIN[0][0]                     \n",
      "____________________________________________________________________________________________________\n",
      "add_bias_layer_1 (AddBiasLayer)  (None, 32, 32, 256)   256         D4xNINWS[0][0]                   \n",
      "____________________________________________________________________________________________________\n",
      "activation_1 (Activation)        (None, 32, 32, 256)   0           add_bias_layer_1[0][0]           \n",
      "____________________________________________________________________________________________________\n",
      "D4bPad (ZeroPadding2D)           (None, 34, 34, 256)   0           activation_1[0][0]               \n",
      "____________________________________________________________________________________________________\n",
      "D4b (Conv2D)                     (None, 32, 32, 256)   589824      D4bPad[0][0]                     \n",
      "____________________________________________________________________________________________________\n",
      "D4bws (WScaleLayer)              (None, 32, 32, 256)   1.0         D4b[0][0]                        \n",
      "____________________________________________________________________________________________________\n",
      "add_bias_layer_2 (AddBiasLayer)  (None, 32, 32, 256)   256         D4bws[0][0]                      \n",
      "____________________________________________________________________________________________________\n",
      "activation_2 (Activation)        (None, 32, 32, 256)   0           add_bias_layer_2[0][0]           \n",
      "____________________________________________________________________________________________________\n",
      "D4bBN (BatchNormalization)       (None, 32, 32, 256)   1024        activation_2[0][0]               \n",
      "____________________________________________________________________________________________________\n",
      "D4aPad (ZeroPadding2D)           (None, 34, 34, 256)   0           D4bBN[0][0]                      \n",
      "____________________________________________________________________________________________________\n",
      "D4a (Conv2D)                     (None, 32, 32, 256)   589824      D4aPad[0][0]                     \n",
      "____________________________________________________________________________________________________\n",
      "D4aws (WScaleLayer)              (None, 32, 32, 256)   1.0         D4a[0][0]                        \n",
      "____________________________________________________________________________________________________\n",
      "D3xs (AveragePooling2D)          (None, 16, 16, 1)     0           Dimages[0][0]                    \n",
      "____________________________________________________________________________________________________\n",
      "add_bias_layer_3 (AddBiasLayer)  (None, 32, 32, 256)   256         D4aws[0][0]                      \n",
      "____________________________________________________________________________________________________\n",
      "D3xNIN (Conv2D)                  (None, 16, 16, 256)   256         D3xs[0][0]                       \n",
      "____________________________________________________________________________________________________\n",
      "activation_3 (Activation)        (None, 32, 32, 256)   0           add_bias_layer_3[0][0]           \n",
      "____________________________________________________________________________________________________\n",
      "D3xNINWS (WScaleLayer)           (None, 16, 16, 256)   1.0         D3xNIN[0][0]                     \n",
      "____________________________________________________________________________________________________\n",
      "D4aBN (BatchNormalization)       (None, 32, 32, 256)   1024        activation_3[0][0]               \n",
      "____________________________________________________________________________________________________\n",
      "add_bias_layer_4 (AddBiasLayer)  (None, 16, 16, 256)   256         D3xNINWS[0][0]                   \n",
      "____________________________________________________________________________________________________\n",
      "D4dn (AveragePooling2D)          (None, 16, 16, 256)   0           D4aBN[0][0]                      \n",
      "____________________________________________________________________________________________________\n",
      "activation_4 (Activation)        (None, 16, 16, 256)   0           add_bias_layer_4[0][0]           \n",
      "____________________________________________________________________________________________________\n",
      "D3lod (LODSelectLayer)           (None, 16, 16, 256)   0           D4dn[0][0]                       \n",
      "                                                                   activation_4[0][0]               \n",
      "____________________________________________________________________________________________________\n",
      "D3bPad (ZeroPadding2D)           (None, 18, 18, 256)   0           D3lod[0][0]                      \n",
      "____________________________________________________________________________________________________\n",
      "D3b (Conv2D)                     (None, 16, 16, 256)   589824      D3bPad[0][0]                     \n",
      "____________________________________________________________________________________________________\n",
      "D3bws (WScaleLayer)              (None, 16, 16, 256)   1.0         D3b[0][0]                        \n",
      "____________________________________________________________________________________________________\n",
      "add_bias_layer_5 (AddBiasLayer)  (None, 16, 16, 256)   256         D3bws[0][0]                      \n",
      "____________________________________________________________________________________________________\n",
      "activation_5 (Activation)        (None, 16, 16, 256)   0           add_bias_layer_5[0][0]           \n",
      "____________________________________________________________________________________________________\n",
      "D3bBN (BatchNormalization)       (None, 16, 16, 256)   1024        activation_5[0][0]               \n",
      "____________________________________________________________________________________________________\n",
      "D3aPad (ZeroPadding2D)           (None, 18, 18, 256)   0           D3bBN[0][0]                      \n",
      "____________________________________________________________________________________________________\n",
      "D3a (Conv2D)                     (None, 16, 16, 256)   589824      D3aPad[0][0]                     \n",
      "____________________________________________________________________________________________________\n",
      "D3aws (WScaleLayer)              (None, 16, 16, 256)   1.0         D3a[0][0]                        \n",
      "____________________________________________________________________________________________________\n",
      "D2xs (AveragePooling2D)          (None, 8, 8, 1)       0           Dimages[0][0]                    \n",
      "____________________________________________________________________________________________________\n",
      "add_bias_layer_6 (AddBiasLayer)  (None, 16, 16, 256)   256         D3aws[0][0]                      \n",
      "____________________________________________________________________________________________________\n",
      "D2xNIN (Conv2D)                  (None, 8, 8, 256)     256         D2xs[0][0]                       \n",
      "____________________________________________________________________________________________________\n",
      "activation_6 (Activation)        (None, 16, 16, 256)   0           add_bias_layer_6[0][0]           \n",
      "____________________________________________________________________________________________________\n",
      "D2xNINWS (WScaleLayer)           (None, 8, 8, 256)     1.0         D2xNIN[0][0]                     \n",
      "____________________________________________________________________________________________________\n",
      "D3aBN (BatchNormalization)       (None, 16, 16, 256)   1024        activation_6[0][0]               \n",
      "____________________________________________________________________________________________________\n",
      "add_bias_layer_7 (AddBiasLayer)  (None, 8, 8, 256)     256         D2xNINWS[0][0]                   \n",
      "____________________________________________________________________________________________________\n",
      "D3dn (AveragePooling2D)          (None, 8, 8, 256)     0           D3aBN[0][0]                      \n",
      "____________________________________________________________________________________________________\n",
      "activation_7 (Activation)        (None, 8, 8, 256)     0           add_bias_layer_7[0][0]           \n",
      "____________________________________________________________________________________________________\n",
      "D2lod (LODSelectLayer)           (None, 8, 8, 256)     0           D3dn[0][0]                       \n",
      "                                                                   activation_7[0][0]               \n",
      "____________________________________________________________________________________________________\n",
      "D1bPad (ZeroPadding2D)           (None, 10, 10, 256)   0           D2lod[0][0]                      \n",
      "____________________________________________________________________________________________________\n",
      "D1b (Conv2D)                     (None, 8, 8, 256)     589824      D1bPad[0][0]                     \n",
      "____________________________________________________________________________________________________\n",
      "D1bws (WScaleLayer)              (None, 8, 8, 256)     1.0         D1b[0][0]                        \n",
      "____________________________________________________________________________________________________\n",
      "add_bias_layer_8 (AddBiasLayer)  (None, 8, 8, 256)     256         D1bws[0][0]                      \n",
      "____________________________________________________________________________________________________\n",
      "activation_8 (Activation)        (None, 8, 8, 256)     0           add_bias_layer_8[0][0]           \n",
      "____________________________________________________________________________________________________\n",
      "D1bBN (BatchNormalization)       (None, 8, 8, 256)     1024        activation_8[0][0]               \n",
      "____________________________________________________________________________________________________\n",
      "D1aPad (ZeroPadding2D)           (None, 8, 8, 256)     0           D1bBN[0][0]                      \n",
      "____________________________________________________________________________________________________\n",
      "D1a (Conv2D)                     (None, 5, 5, 256)     1048576     D1aPad[0][0]                     \n",
      "____________________________________________________________________________________________________\n",
      "D1aws (WScaleLayer)              (None, 5, 5, 256)     1.0         D1a[0][0]                        \n",
      "____________________________________________________________________________________________________\n",
      "add_bias_layer_9 (AddBiasLayer)  (None, 5, 5, 256)     256         D1aws[0][0]                      \n",
      "____________________________________________________________________________________________________\n",
      "activation_9 (Activation)        (None, 5, 5, 256)     0           add_bias_layer_9[0][0]           \n",
      "____________________________________________________________________________________________________\n",
      "D1aBN (BatchNormalization)       (None, 5, 5, 256)     1024        activation_9[0][0]               \n",
      "====================================================================================================\n",
      "Total params: 4,006,921\n",
      "Trainable params: 4,003,840\n",
      "Non-trainable params: 3,081\n",
      "____________________________________________________________________________________________________\n"
     ]
    }
   ],
   "source": [
    "enc.summary()"
   ]
  },
  {
   "cell_type": "code",
   "execution_count": null,
   "metadata": {},
   "outputs": [],
   "source": []
  },
  {
   "cell_type": "code",
   "execution_count": null,
   "metadata": {},
   "outputs": [],
   "source": []
  }
 ],
 "metadata": {
  "kernelspec": {
   "display_name": "Python 3",
   "language": "python",
   "name": "python3"
  },
  "language_info": {
   "codemirror_mode": {
    "name": "ipython",
    "version": 3
   },
   "file_extension": ".py",
   "mimetype": "text/x-python",
   "name": "python",
   "nbconvert_exporter": "python",
   "pygments_lexer": "ipython3",
   "version": "3.6.6"
  }
 },
 "nbformat": 4,
 "nbformat_minor": 2
}
